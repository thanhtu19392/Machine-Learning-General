{
 "cells": [
  {
   "cell_type": "markdown",
   "metadata": {},
   "source": [
    "# Probability Distributions \n"
   ]
  },
  {
   "cell_type": "markdown",
   "metadata": {},
   "source": [
    "1. Assume that the data points are independent and identically distributed \n",
    "2. Two types of distributions: Parametric distributions and nonparametric distribution  \n",
    "**Parametric distributions**: they are governed by a small number of adaptive parameters, such as the mean and variance in the case of a Gaussian for example.   \n",
    "In a frequentist treatment, we choose specific values for the parameters by optimizing some criterion, such as the likelihood function. By contrast, in a Bayesian treatment we introduce prior distributions over the parameters and then use Bayes’ theorem to compute the corresponding posterior distribution given the observed data.    \n",
    "**Nonparametric distribution **: the form of the distribution typically depends on the size of the data set. Such models still contain parameters, but these control the model complexity\n",
    "rather than the form of the distribution"
   ]
  },
  {
   "cell_type": "markdown",
   "metadata": {},
   "source": [
    "## Binary Variables\n",
    "Considering a single binary random variable $x \\in \\{0, 1\\}$  \n",
    "The probability of x = 1 will be denoted by the parameter $\\mu$ so that   \n",
    "$p(x = 1| \\mu) =\\mu \\\\\n",
    "p(x = 0| \\mu) =1-\\mu$   \n",
    "   \n",
    "The probability distribution over x (Bernoulli distribution):   \n",
    "$Bern(x|\\mu) = \\mu^x(1-\\mu)^{1-x}$\n",
    "with mean and variance:  \n",
    "$$ E(x) = \\mu \\\\\n",
    "var(x) = \\mu(1 - \\mu)$$   \n",
    "   \n",
    "suppose we have data set $D = \\{x_1,..., x_N\\}$ of observed values of x. We can construct the likelihood function, which is a function of $\\mu$ on the assumption that the observations are drawn independently from $p(x|\\mu)$   \n",
    "$$p(D|\\mu) = \\prod_{n=1}^N p(x|\\mu) = \\prod_{n=1}^N  \\mu^x(1-\\mu)^{1-x}$$   \n",
    "    \n",
    "The log likelihood function:   \n",
    "$$lnp(D|\\mu) = \\sum_{n=1}^N "
   ]
  },
  {
   "cell_type": "code",
   "execution_count": null,
   "metadata": {
    "collapsed": true
   },
   "outputs": [],
   "source": []
  }
 ],
 "metadata": {
  "kernelspec": {
   "display_name": "Python 3",
   "language": "python",
   "name": "python3"
  },
  "language_info": {
   "codemirror_mode": {
    "name": "ipython",
    "version": 3
   },
   "file_extension": ".py",
   "mimetype": "text/x-python",
   "name": "python",
   "nbconvert_exporter": "python",
   "pygments_lexer": "ipython3",
   "version": "3.6.0"
  }
 },
 "nbformat": 4,
 "nbformat_minor": 2
}
