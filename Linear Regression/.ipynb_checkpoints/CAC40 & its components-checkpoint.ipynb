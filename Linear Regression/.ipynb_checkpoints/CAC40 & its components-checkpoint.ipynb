{
 "cells": [
  {
   "cell_type": "markdown",
   "metadata": {},
   "source": [
    "# CAC40\n",
    "### This article will discuss about CAC40 and its components. We will analyze their correlation, their trends..."
   ]
  },
  {
   "cell_type": "code",
   "execution_count": null,
   "metadata": {
    "collapsed": false
   },
   "outputs": [],
   "source": [
    "import numpy as np\n",
    "import pandas as pd\n",
    "import matplotlib.pyplot as plt\n",
    "%matplotlib inline\n",
    "import pandas_datareader.data as web\n",
    "import datetime\n",
    "import seaborn as sns \n",
    "from scipy import stats\n",
    "from scipy.stats import norm\n",
    "from scipy.stats import skew\n",
    "from sklearn.preprocessing import StandardScaler\n",
    "sns.set(style = \"whitegrid\", color_codes = True)\n",
    "sns.set(font_scale = 1)\n",
    "from astropy.table import Table, Column\n",
    "\n",
    "#list of all components of CAC40\n",
    "components =['SOLB','LHN.PA','NOKIA.PA','ACA.PA','ATO.PA','SAF.PA','AI.PA','CA.PA','FP.PA','OR.PA','AC.PA','EN.PA','SAN','CS.PA','BN.PA','RI.PA','MC.PA','SW.PA','ML.PA','KER.PA','UG.PA','EI.PA','SU.PA','VIE.PA','UL','SGO.PA','CAP.PA','DG.PA','VIV.PA','PUB.PA','GLE.PA','BNP.PA','RNO.PA','ORA.PA','ENGI.PA','LR.PA','FR.PA','FTI.PA','MT.PA','AIR.PA']\n",
    "\n",
    "#index Cac40\n",
    "Cac = ['^FCHI']\n",
    "\n",
    "#Choose Close Value\n",
    "ls_key = 'Close'\n",
    "start = datetime.datetime(2016, 12, 1)\n",
    "end = datetime.datetime(2017, 4, 26)\n",
    "df_component = web.DataReader(components, 'yahoo',start,end)\n",
    "DataComponent = df_component.ix[ls_key]\n",
    "DataComponent.rename(columns = {'SOLB':'Solvay','LHN.PA':'LafargeHolcim','NOKIA.PA':'Nokia','ACA.PA':'Credit Agricole','ATO.PA':'Atos','SAF.PA':'Safran','AI.PA':'Air Liquide','CA.PA':'Carrefour','FP.PA':'Total','OR.PA':'Loreal','AC.PA':'Accor Hotels','EN.PA':'Bouygues','SAN':'Sanofi','CS.PA':'Axa','BN.PA':'Danone','RI.PA':'Pernod Ricard','MC.PA':'Lvmh','SW.PA':'Sodexo','ML.PA':'Michelin','KER.PA':'Kering','UG.PA':'Peugeot','EI.PA':'Essilor Intl','SU.PA':'Schneider Electric','VIE.PA':'Veolia Environ','UL':'Unibail-Rodamco','SGO.PA':'Saint Gobain','CAP.PA':'Cap Gemini','DG.PA':'Vinci','VIV.PA':'Vivendi','PUB.PA':'Publicis Groupe','GLE.PA':'Societe Generale','BNP.PA':'Bnp Paribas','RNO.PA':'Renault','ORA.PA':'Orange','ENGI.PA':'Engie','LR.PA':'Legrand SA','FR.PA':'Valeo','FTI.PA':'TechnipFMC','MT.PA':'Arcelor Mittal','AIR.PA':'Airbus'}, inplace= True)\n",
    "print(DataComponent.head())\n",
    "\n",
    "df_cac = web.DataReader(Cac, 'yahoo',start,end)\n",
    "DataCac = df_cac.ix[ls_key]\n",
    "DataCac.rename(columns = {'^FCHI':'CAC40', '^STOXX50E':'Euro Stoxx 50', '^VIX':'VIX', '^GSPC':'S&P 500'}, inplace= True)\n",
    "print(DataCac.head())\n",
    "\n",
    "train = pd.concat([DataComponent,DataCac], axis = 1)\n",
    "print(train.shape)\n"
   ]
  },
  {
   "cell_type": "code",
   "execution_count": null,
   "metadata": {
    "collapsed": false
   },
   "outputs": [],
   "source": [
    "#missing data\n",
    "total = train.isnull().sum().sort_values(ascending=False)\n",
    "percent = (train.isnull().sum()/train.isnull().count()).sort_values(ascending=False)\n",
    "missing_data = pd.concat([total, percent], axis=1, keys=['Total', 'Percent'])\n",
    "print(\"Missing data in training test:\")\n",
    "print(missing_data.head(10))\n",
    "print(\"-\"*25)\n",
    "\n",
    "#dealing with missing data\n",
    "train = train.fillna(train.mean())\n"
   ]
  },
  {
   "cell_type": "code",
   "execution_count": null,
   "metadata": {
    "collapsed": false
   },
   "outputs": [],
   "source": [
    "#Correlation between features\n",
    "corrMatrix = train.select_dtypes(include = ['Float64','int64']).iloc[:,1:].corr()\n",
    "plt.figure(figsize=(12,12))\n",
    "sns.heatmap(corrMatrix,vmax = .8, linewidths = 0.01, square = True, cmap = 'viridis', linecolor ='white')\n",
    "plt.title('Correlation between features')\n"
   ]
  },
  {
   "cell_type": "code",
   "execution_count": null,
   "metadata": {
    "collapsed": false
   },
   "outputs": [],
   "source": [
    "#Calculate correlation between variables and target\n",
    "corr = train.corr()['CAC40']\n",
    "print(\"Correlation Coefficients\")\n",
    "print(corr[np.argsort(corr,axis=0)[::-1]])"
   ]
  },
  {
   "cell_type": "code",
   "execution_count": null,
   "metadata": {
    "collapsed": false
   },
   "outputs": [],
   "source": [
    "#scatter plot Cap Gemini/CAC40\n",
    "var = 'Cap Gemini'\n",
    "data_CapGemini = pd.concat([train['CAC40'], train[var]], axis=1)\n",
    "data_CapGemini.plot.scatter(x=var, y='CAC40', ylim=(3000,7000));"
   ]
  },
  {
   "cell_type": "code",
   "execution_count": null,
   "metadata": {
    "collapsed": false
   },
   "outputs": [],
   "source": [
    "#scatter plot Bouygues/CAC40\n",
    "var = 'Bouygues'\n",
    "data_Bouygues = pd.concat([train['CAC40'], train[var]], axis=1)\n",
    "data_Bouygues.plot.scatter(x=var, y='CAC40', ylim=(3000,7000));"
   ]
  },
  {
   "cell_type": "code",
   "execution_count": null,
   "metadata": {
    "collapsed": false
   },
   "outputs": [],
   "source": [
    "sns.distplot(train['CAC40'])"
   ]
  },
  {
   "cell_type": "code",
   "execution_count": null,
   "metadata": {
    "collapsed": true
   },
   "outputs": [],
   "source": []
  }
 ],
 "metadata": {
  "kernelspec": {
   "display_name": "Python 3",
   "language": "python",
   "name": "python3"
  },
  "language_info": {
   "codemirror_mode": {
    "name": "ipython",
    "version": 3
   },
   "file_extension": ".py",
   "mimetype": "text/x-python",
   "name": "python",
   "nbconvert_exporter": "python",
   "pygments_lexer": "ipython3",
   "version": "3.6.0"
  }
 },
 "nbformat": 4,
 "nbformat_minor": 2
}
