{
 "cells": [
  {
   "cell_type": "markdown",
   "metadata": {},
   "source": [
    "# Singular Value Decomposition (SVD)  \n",
    "  \n",
    "This article will focus on explaining in detail both on theory and on coding (python) about **Singular Value Decomposition (SVD)** \n",
    "\n",
    "## 1. Some matrix definition\n",
    "### 1.1 Diagonal matrix  \n",
    "Definition: A diagonal matrix is a matrix in which the entries outside the main diagonal are all zero.\n",
    "\n",
    "### 1.2 Orthogonal matrix\n",
    "Definition: An orthogonal matrix is a square matrix with real entries whose columns and rows are orthogonal unit vectors (i.e., orthonormal vectors), i.e. $$\\mathcal{Q}^T\\mathcal{Q}= \\mathcal{Q}\\mathcal{Q}^T = \\mathcal{I}$$ \n",
    "with $\\mathcal{I}$ is the identity matrix\n",
    "\n",
    "## 2. Problem \n",
    "A matrix $\\mathcal{A}$ dimension $n$x$d$. Treat rows of matrix $\\mathcal{A}$ as n points in a d-dimensional space.  \n",
    "The problem is to find the best *k*-dimensional subspace with respect to the set of points. \n",
    "*Here 'best' means minimize the sum of the squares of the perpendicular distances of the points to the subspace.* \n",
    "\n",
    "## 3. Lets tackle this problem \n",
    "### 3.1 Begin with 1-dimensional subspace\n",
    "Problem: *best least squares fit*  \n",
    "Finding the best fitting line through the origin with respect\n",
    "to a set of points ${x_i|1 ≤ i ≤ n}$ in the plane means minimizing the sum of the squared\n",
    "distances of the points to the line.  \n",
    "Consider projecting a point $x_i$ onto a line through the origin. then: \n",
    "$$ x_{i1}^2 + x_{i1}^2 +..... + x_{i1}^2 = (length-of-projection)^2 + (distance-of-point-to- line)^2 $$\n",
    "To minimize the sum of the squares of the distances to the line, one could the sum of the squares of the lengths of the projections onto the line because the sum $x_{i1}^2 + x_{i1}^2 +..... + x_{i1}^2$ is constant\n",
    "\n",
    "### 3.2 Singular Vectors \n",
    "\n"
   ]
  },
  {
   "cell_type": "markdown",
   "metadata": {},
   "source": [
    "\n",
    "For reference:  \n",
    "1. http://www.ams.org/samplings/feature-column/fcarc-svd\n",
    "2. [This source pdf explaining math formula](https://www.cs.cmu.edu/~venkatg/teaching/CStheory-infoage/book-chapter-4.pdf)\n",
    "3. [Example](https://datajobs.com/data-science-repo/SVD-Tutorial-[Kirk-Baker].pdf)\n"
   ]
  },
  {
   "cell_type": "code",
   "execution_count": null,
   "metadata": {
    "collapsed": true
   },
   "outputs": [],
   "source": []
  }
 ],
 "metadata": {
  "kernelspec": {
   "display_name": "Python 3",
   "language": "python",
   "name": "python3"
  },
  "language_info": {
   "codemirror_mode": {
    "name": "ipython",
    "version": 3
   },
   "file_extension": ".py",
   "mimetype": "text/x-python",
   "name": "python",
   "nbconvert_exporter": "python",
   "pygments_lexer": "ipython3",
   "version": "3.6.0"
  }
 },
 "nbformat": 4,
 "nbformat_minor": 2
}
