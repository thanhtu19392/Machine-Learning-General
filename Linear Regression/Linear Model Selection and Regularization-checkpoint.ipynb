{
 "cells": [
  {
   "cell_type": "markdown",
   "metadata": {},
   "source": [
    "# Linear Model Selection and Regularization\n",
    "\n",
    "This Notebook is created with the aim doing Subset selection in python which is inspired in the book \"Introduction to Statistical Learning with Applications in R\" by Gareth James, Daniela Witten, Trevor Hastie and Robert Tibshirani.  \n",
    "We would use the Hitters data for predicting baseball player's Salary."
   ]
  },
  {
   "cell_type": "code",
   "execution_count": 1,
   "metadata": {
    "collapsed": false
   },
   "outputs": [
    {
     "name": "stderr",
     "output_type": "stream",
     "text": [
      "C:\\Users\\Stagiaire\\lib\\site-packages\\sklearn\\cross_validation.py:44: DeprecationWarning: This module was deprecated in version 0.18 in favor of the model_selection module into which all the refactored classes and functions are moved. Also note that the interface of the new CV iterators are different from that of this module. This module will be removed in 0.20.\n",
      "  \"This module will be removed in 0.20.\", DeprecationWarning)\n"
     ]
    }
   ],
   "source": [
    "#Load libraries\n",
    "import numpy as np\n",
    "import pandas as pd\n",
    "import matplotlib.pyplot as plt\n",
    "%matplotlib inline\n",
    "import seaborn as sns\n",
    "sns.set(style = \"whitegrid\", color_codes = True)\n",
    "sns.set(font_scale = 1)\n",
    "import statsmodels.api as sm\n",
    "import time\n",
    "\n",
    "\n",
    "from sklearn import cross_validation\n",
    "from sklearn.linear_model import LinearRegression, Ridge, RidgeCV, Lasso, LassoCV\n",
    "from sklearn.preprocessing import scale\n",
    "from sklearn.decomposition import PCA\n",
    "from sklearn.cross_decomposition import PLSRegression\n",
    "from sklearn.metrics import mean_squared_error\n"
   ]
  },
  {
   "cell_type": "code",
   "execution_count": 2,
   "metadata": {
    "collapsed": false
   },
   "outputs": [],
   "source": [
    "#Import data\n",
    "df = pd.read_csv('C:/Users/Stagiaire/Desktop/Personnel/python_ML/Hitters/Baseball.csv')"
   ]
  },
  {
   "cell_type": "code",
   "execution_count": 3,
   "metadata": {
    "collapsed": false
   },
   "outputs": [
    {
     "name": "stdout",
     "output_type": "stream",
     "text": [
      "              Player  AtBat  Hits  HmRun  Runs  RBI  Walks  Years  CAtBat  \\\n",
      "0     -Andy Allanson    293    66      1    30   29     14      1     293   \n",
      "1        -Alan Ashby    315    81      7    24   38     39     14    3449   \n",
      "2       -Alvin Davis    479   130     18    66   72     76      3    1624   \n",
      "3      -Andre Dawson    496   141     20    65   78     37     11    5628   \n",
      "4  -Andres Galarraga    321    87     10    39   42     30      2     396   \n",
      "\n",
      "   CHits    ...      CRuns  CRBI  CWalks  League Division PutOuts  Assists  \\\n",
      "0     66    ...         30    29      14       A        E     446       33   \n",
      "1    835    ...        321   414     375       N        W     632       43   \n",
      "2    457    ...        224   266     263       A        W     880       82   \n",
      "3   1575    ...        828   838     354       N        E     200       11   \n",
      "4    101    ...         48    46      33       N        E     805       40   \n",
      "\n",
      "   Errors  Salary  NewLeague  \n",
      "0      20     NaN          A  \n",
      "1      10   475.0          N  \n",
      "2      14   480.0          A  \n",
      "3       3   500.0          N  \n",
      "4       4    91.5          N  \n",
      "\n",
      "[5 rows x 21 columns]\n",
      "<class 'pandas.core.frame.DataFrame'>\n",
      "RangeIndex: 322 entries, 0 to 321\n",
      "Data columns (total 21 columns):\n",
      "Player       322 non-null object\n",
      "AtBat        322 non-null int64\n",
      "Hits         322 non-null int64\n",
      "HmRun        322 non-null int64\n",
      "Runs         322 non-null int64\n",
      "RBI          322 non-null int64\n",
      "Walks        322 non-null int64\n",
      "Years        322 non-null int64\n",
      "CAtBat       322 non-null int64\n",
      "CHits        322 non-null int64\n",
      "CHmRun       322 non-null int64\n",
      "CRuns        322 non-null int64\n",
      "CRBI         322 non-null int64\n",
      "CWalks       322 non-null int64\n",
      "League       322 non-null object\n",
      "Division     322 non-null object\n",
      "PutOuts      322 non-null int64\n",
      "Assists      322 non-null int64\n",
      "Errors       322 non-null int64\n",
      "Salary       263 non-null float64\n",
      "NewLeague    322 non-null object\n",
      "dtypes: float64(1), int64(16), object(4)\n",
      "memory usage: 52.9+ KB\n",
      "None\n"
     ]
    }
   ],
   "source": [
    "df.rename(columns ={'Unnamed: 0':'Player'},inplace = True)\n",
    "print(df.head())\n",
    "print(df.info())\n"
   ]
  },
  {
   "cell_type": "code",
   "execution_count": 4,
   "metadata": {
    "collapsed": false
   },
   "outputs": [
    {
     "name": "stdout",
     "output_type": "stream",
     "text": [
      "Missing data in training test:\n"
     ]
    },
    {
     "data": {
      "text/html": [
       "<div>\n",
       "<table border=\"1\" class=\"dataframe\">\n",
       "  <thead>\n",
       "    <tr style=\"text-align: right;\">\n",
       "      <th></th>\n",
       "      <th>Total</th>\n",
       "      <th>Percent</th>\n",
       "    </tr>\n",
       "  </thead>\n",
       "  <tbody>\n",
       "    <tr>\n",
       "      <th>Salary</th>\n",
       "      <td>59</td>\n",
       "      <td>0.18323</td>\n",
       "    </tr>\n",
       "    <tr>\n",
       "      <th>NewLeague</th>\n",
       "      <td>0</td>\n",
       "      <td>0.00000</td>\n",
       "    </tr>\n",
       "    <tr>\n",
       "      <th>CHits</th>\n",
       "      <td>0</td>\n",
       "      <td>0.00000</td>\n",
       "    </tr>\n",
       "    <tr>\n",
       "      <th>AtBat</th>\n",
       "      <td>0</td>\n",
       "      <td>0.00000</td>\n",
       "    </tr>\n",
       "    <tr>\n",
       "      <th>Hits</th>\n",
       "      <td>0</td>\n",
       "      <td>0.00000</td>\n",
       "    </tr>\n",
       "    <tr>\n",
       "      <th>HmRun</th>\n",
       "      <td>0</td>\n",
       "      <td>0.00000</td>\n",
       "    </tr>\n",
       "    <tr>\n",
       "      <th>Runs</th>\n",
       "      <td>0</td>\n",
       "      <td>0.00000</td>\n",
       "    </tr>\n",
       "    <tr>\n",
       "      <th>RBI</th>\n",
       "      <td>0</td>\n",
       "      <td>0.00000</td>\n",
       "    </tr>\n",
       "    <tr>\n",
       "      <th>Walks</th>\n",
       "      <td>0</td>\n",
       "      <td>0.00000</td>\n",
       "    </tr>\n",
       "    <tr>\n",
       "      <th>Years</th>\n",
       "      <td>0</td>\n",
       "      <td>0.00000</td>\n",
       "    </tr>\n",
       "  </tbody>\n",
       "</table>\n",
       "</div>"
      ],
      "text/plain": [
       "           Total  Percent\n",
       "Salary        59  0.18323\n",
       "NewLeague      0  0.00000\n",
       "CHits          0  0.00000\n",
       "AtBat          0  0.00000\n",
       "Hits           0  0.00000\n",
       "HmRun          0  0.00000\n",
       "Runs           0  0.00000\n",
       "RBI            0  0.00000\n",
       "Walks          0  0.00000\n",
       "Years          0  0.00000"
      ]
     },
     "execution_count": 4,
     "metadata": {},
     "output_type": "execute_result"
    }
   ],
   "source": [
    "#missing data\n",
    "total = df.isnull().sum().sort_values(ascending=False)\n",
    "percent = (df.isnull().sum()/df.isnull().count()).sort_values(ascending=False)\n",
    "missing_data = pd.concat([total, percent], axis=1, keys=['Total', 'Percent'])\n",
    "print(\"Missing data in training test:\")\n",
    "missing_data.head(10)"
   ]
  },
  {
   "cell_type": "markdown",
   "metadata": {},
   "source": [
    "We note that the Salary variable is missing for 59 persons. Because Salary variable is a target => if we don't have values, we should drop them out"
   ]
  },
  {
   "cell_type": "code",
   "execution_count": 5,
   "metadata": {
    "collapsed": false
   },
   "outputs": [
    {
     "name": "stdout",
     "output_type": "stream",
     "text": [
      "<class 'pandas.core.frame.DataFrame'>\n",
      "Int64Index: 263 entries, 1 to 321\n",
      "Data columns (total 20 columns):\n",
      "AtBat        263 non-null int64\n",
      "Hits         263 non-null int64\n",
      "HmRun        263 non-null int64\n",
      "Runs         263 non-null int64\n",
      "RBI          263 non-null int64\n",
      "Walks        263 non-null int64\n",
      "Years        263 non-null int64\n",
      "CAtBat       263 non-null int64\n",
      "CHits        263 non-null int64\n",
      "CHmRun       263 non-null int64\n",
      "CRuns        263 non-null int64\n",
      "CRBI         263 non-null int64\n",
      "CWalks       263 non-null int64\n",
      "League       263 non-null object\n",
      "Division     263 non-null object\n",
      "PutOuts      263 non-null int64\n",
      "Assists      263 non-null int64\n",
      "Errors       263 non-null int64\n",
      "Salary       263 non-null float64\n",
      "NewLeague    263 non-null object\n",
      "dtypes: float64(1), int64(16), object(3)\n",
      "memory usage: 43.1+ KB\n",
      "(263, 20)\n"
     ]
    }
   ],
   "source": [
    "#Drop any rows containing missing values, along with the player names\n",
    "df= df.dropna().drop('Player', axis = 1)\n",
    "df.info()\n",
    "print (df.shape)"
   ]
  },
  {
   "cell_type": "code",
   "execution_count": 6,
   "metadata": {
    "collapsed": false
   },
   "outputs": [
    {
     "name": "stdout",
     "output_type": "stream",
     "text": [
      "   League_A  League_N  Division_E  Division_W  NewLeague_A  NewLeague_N\n",
      "1         0         1           0           1            0            1\n",
      "2         1         0           0           1            1            0\n",
      "3         0         1           1           0            0            1\n",
      "4         0         1           1           0            0            1\n",
      "5         1         0           0           1            1            0\n"
     ]
    }
   ],
   "source": [
    "#dummies for categorical features\n",
    "categorical_features = df.select_dtypes(include = ['object']).columns\n",
    "\n",
    "dummies = pd.get_dummies(df[categorical_features])\n",
    "print (dummies.head())\n"
   ]
  },
  {
   "cell_type": "code",
   "execution_count": 7,
   "metadata": {
    "collapsed": false
   },
   "outputs": [
    {
     "name": "stdout",
     "output_type": "stream",
     "text": [
      "   AtBat   Hits  HmRun  Runs   RBI  Walks  Years  CAtBat   CHits  CHmRun  \\\n",
      "1  315.0   81.0    7.0  24.0  38.0   39.0   14.0  3449.0   835.0    69.0   \n",
      "2  479.0  130.0   18.0  66.0  72.0   76.0    3.0  1624.0   457.0    63.0   \n",
      "3  496.0  141.0   20.0  65.0  78.0   37.0   11.0  5628.0  1575.0   225.0   \n",
      "4  321.0   87.0   10.0  39.0  42.0   30.0    2.0   396.0   101.0    12.0   \n",
      "5  594.0  169.0    4.0  74.0  51.0   35.0   11.0  4408.0  1133.0    19.0   \n",
      "\n",
      "      ...       CWalks  PutOuts  Assists  Errors  League_A  League_N  \\\n",
      "1     ...        375.0    632.0     43.0    10.0         0         1   \n",
      "2     ...        263.0    880.0     82.0    14.0         1         0   \n",
      "3     ...        354.0    200.0     11.0     3.0         0         1   \n",
      "4     ...         33.0    805.0     40.0     4.0         0         1   \n",
      "5     ...        194.0    282.0    421.0    25.0         1         0   \n",
      "\n",
      "   Division_E  Division_W  NewLeague_A  NewLeague_N  \n",
      "1           0           1            0            1  \n",
      "2           0           1            1            0  \n",
      "3           1           0            0            1  \n",
      "4           1           0            0            1  \n",
      "5           0           1            1            0  \n",
      "\n",
      "[5 rows x 22 columns]\n"
     ]
    }
   ],
   "source": [
    "#target\n",
    "y = df['Salary']\n",
    "\n",
    "#Drop the columns Salary and for which we created dummies\n",
    "X = df.drop(['Salary', 'League', 'Division', 'NewLeague'], axis = 1).astype('float64')\n",
    "\n",
    "#define variables\n",
    "X = pd.concat([X, dummies], axis = 1)\n",
    "print (X.head())\n"
   ]
  },
  {
   "cell_type": "markdown",
   "metadata": {},
   "source": [
    "### Best- Subset Selection  \n",
    "\n",
    "We can perform best subset selection by identifying the best model that contains a given number of predictors, where best is quantified using RSS.  \n",
    "Algorithm Best Subset selection:  \n",
    "1. Let M0 denote the null model, which contains no predictors. This\n",
    "model simply predicts the sample mean for each observation.  \n",
    "2. For k = 1, 2, . . . p:  \n",
    "(a) Fit all $\\binom{n}{k}$ models that contain exactly k predictors.  \n",
    "(b) Pick the best among these $\\binom{n}{k}$ models, and call it Mk. Here best is defined as having the smallest RSS, or equivalently largest R2.  \n",
    "3. Select a single best model from among M0, . . . , Mp using crossvalidated prediction error, Cp (AIC), BIC, or adjusted R2."
   ]
  },
  {
   "cell_type": "markdown",
   "metadata": {},
   "source": [
    "### Step 2: find the best model for each subset selection"
   ]
  },
  {
   "cell_type": "code",
   "execution_count": 8,
   "metadata": {
    "collapsed": false
   },
   "outputs": [
    {
     "name": "stdout",
     "output_type": "stream",
     "text": [
      "Processed  22 models on 1 predictors in 0.13316893577575684 seconds.\n",
      "Processed  231 models on 2 predictors in 0.7369966506958008 seconds.\n",
      "Processed  1540 models on 3 predictors in 5.656198501586914 seconds.\n",
      "Processed  7315 models on 4 predictors in 24.58389949798584 seconds.\n",
      "Processed  26334 models on 5 predictors in 94.97528266906738 seconds.\n",
      "Processed  74613 models on 6 predictors in 265.23290038108826 seconds.\n",
      "Processed  170544 models on 7 predictors in 660.0301647186279 seconds.\n",
      "Total elapsed time: 1051.5176377296448 seconds.\n"
     ]
    }
   ],
   "source": [
    "#define a function to outputs the best set of variables for each model size\n",
    "def processSubset(feature_set):\n",
    "    #Fir model on feature_set and calculate RSS\n",
    "    model = sm.OLS(y, X[list(feature_set)])\n",
    "    regr = model.fit()\n",
    "    RSS = ((regr.predict(X[list(feature_set)])- y)**2).sum()\n",
    "    return {\"model\":regr, \"RSS\" : RSS}\n",
    "\n",
    "def combinations(iterable, r):\n",
    "    # combinations('ABCD', 2) --> AB AC AD BC BD CD\n",
    "    # combinations(range(4), 3) --> 012 013 023 123\n",
    "    pool = tuple(iterable)\n",
    "    n = len(pool)\n",
    "    if r > n:\n",
    "        return\n",
    "    indices = list(range(r))\n",
    "    yield tuple(pool[i] for i in indices)\n",
    "    while True:\n",
    "        for i in reversed(range(r)):\n",
    "            if indices[i] != i + n - r:\n",
    "                break\n",
    "        else:\n",
    "            return\n",
    "        indices[i] += 1\n",
    "        for j in range(i+1, r):\n",
    "            indices[j] = indices[j-1] + 1\n",
    "        yield tuple(pool[i] for i in indices)\n",
    "        \n",
    "def getBest(k):\n",
    "    tic = time.time()\n",
    "    results = []\n",
    "    for combo in combinations(X.columns,k):\n",
    "        results.append(processSubset(combo))\n",
    "    # Wrap everything up in a nice dataframe\n",
    "    models = pd.DataFrame(results)\n",
    "    # Choose the model with the highest RSS\n",
    "    best_model = models.loc[models['RSS'].argmin()]\n",
    "    toc = time.time()\n",
    "    print(\"Processed \", models.shape[0], \"models on\", k, \"predictors in\", (toc-tic), \"seconds.\")\n",
    "    \n",
    "    # Return the best model, along with some other useful information about the model\n",
    "    return best_model\n",
    "\n",
    "#Call these functions for each number of predictors k\n",
    "models = pd.DataFrame(columns=[\"RSS\", \"model\"])\n",
    "\n",
    "tic = time.time()\n",
    "for i in range(1,8):\n",
    "    models.loc[i] = getBest(i)\n",
    "\n",
    "toc = time.time()\n",
    "print(\"Total elapsed time:\", (toc-tic), \"seconds.\")\n"
   ]
  },
  {
   "cell_type": "code",
   "execution_count": 9,
   "metadata": {
    "collapsed": false
   },
   "outputs": [
    {
     "name": "stdout",
     "output_type": "stream",
     "text": [
      "                            OLS Regression Results                            \n",
      "==============================================================================\n",
      "Dep. Variable:                 Salary   R-squared:                       0.761\n",
      "Model:                            OLS   Adj. R-squared:                  0.760\n",
      "Method:                 Least Squares   F-statistic:                     416.7\n",
      "Date:                Fri, 21 Apr 2017   Prob (F-statistic):           5.80e-82\n",
      "Time:                        14:37:47   Log-Likelihood:                -1907.6\n",
      "No. Observations:                 263   AIC:                             3819.\n",
      "Df Residuals:                     261   BIC:                             3826.\n",
      "Df Model:                           2                                         \n",
      "Covariance Type:            nonrobust                                         \n",
      "==============================================================================\n",
      "                 coef    std err          t      P>|t|      [95.0% Conf. Int.]\n",
      "------------------------------------------------------------------------------\n",
      "Hits           2.9538      0.261     11.335      0.000         2.441     3.467\n",
      "CRBI           0.6788      0.066     10.295      0.000         0.549     0.809\n",
      "==============================================================================\n",
      "Omnibus:                      117.551   Durbin-Watson:                   1.933\n",
      "Prob(Omnibus):                  0.000   Jarque-Bera (JB):              654.612\n",
      "Skew:                           1.729   Prob(JB):                    7.12e-143\n",
      "Kurtosis:                       9.912   Cond. No.                         5.88\n",
      "==============================================================================\n",
      "\n",
      "Warnings:\n",
      "[1] Standard Errors assume that the covariance matrix of the errors is correctly specified.\n"
     ]
    }
   ],
   "source": [
    "#two-variable model contains only Hits and CRBI\n",
    "print(models.loc[2, 'model'].summary())"
   ]
  },
  {
   "cell_type": "code",
   "execution_count": 10,
   "metadata": {
    "collapsed": false
   },
   "outputs": [
    {
     "name": "stdout",
     "output_type": "stream",
     "text": [
      "                            OLS Regression Results                            \n",
      "==============================================================================\n",
      "Dep. Variable:                 Salary   R-squared:                       0.772\n",
      "Model:                            OLS   Adj. R-squared:                  0.769\n",
      "Method:                 Least Squares   F-statistic:                     293.0\n",
      "Date:                Fri, 21 Apr 2017   Prob (F-statistic):           4.43e-83\n",
      "Time:                        14:38:15   Log-Likelihood:                -1901.8\n",
      "No. Observations:                 263   AIC:                             3810.\n",
      "Df Residuals:                     260   BIC:                             3820.\n",
      "Df Model:                           3                                         \n",
      "Covariance Type:            nonrobust                                         \n",
      "==============================================================================\n",
      "                 coef    std err          t      P>|t|      [95.0% Conf. Int.]\n",
      "------------------------------------------------------------------------------\n",
      "Hits           3.4057      0.288     11.842      0.000         2.839     3.972\n",
      "CRBI           0.6964      0.065     10.742      0.000         0.569     0.824\n",
      "Division_W  -129.1604     37.777     -3.419      0.001      -203.548   -54.773\n",
      "==============================================================================\n",
      "Omnibus:                      110.025   Durbin-Watson:                   1.893\n",
      "Prob(Omnibus):                  0.000   Jarque-Bera (JB):              621.594\n",
      "Skew:                           1.589   Prob(JB):                    1.05e-135\n",
      "Kurtosis:                       9.828   Cond. No.                         856.\n",
      "==============================================================================\n",
      "\n",
      "Warnings:\n",
      "[1] Standard Errors assume that the covariance matrix of the errors is correctly specified.\n",
      "R-squared of this model  0.771757078214\n"
     ]
    }
   ],
   "source": [
    "#three-variable model\n",
    "print(models.loc[3, 'model'].summary())\n",
    "#find R2 value\n",
    "print(\"R-squared of this model \", models.loc[3,'model'].rsquared)"
   ]
  },
  {
   "cell_type": "markdown",
   "metadata": {},
   "source": [
    "### Step 3: select the best overall model\n",
    "Use other useful statistics such as adjusted $R^2$, AIC and BIC"
   ]
  },
  {
   "cell_type": "code",
   "execution_count": 11,
   "metadata": {
    "collapsed": false
   },
   "outputs": [
    {
     "data": {
      "text/plain": [
       "1    0.664637\n",
       "2    0.761495\n",
       "3    0.771757\n",
       "4    0.782885\n",
       "5    0.789104\n",
       "6    0.796522\n",
       "7    0.798721\n",
       "dtype: float64"
      ]
     },
     "execution_count": 11,
     "metadata": {},
     "output_type": "execute_result"
    }
   ],
   "source": [
    "# Criteria: R2 Statistic\n",
    "# Gets the second element from each row (’model’) and pulls out its rsquared attribute\n",
    "models.apply(lambda row: row[1].rsquared, axis=1)"
   ]
  },
  {
   "cell_type": "markdown",
   "metadata": {},
   "source": [
    "**Comments:** The $R^2$ statistic increases as more variables are included  \n",
    "So, if we use these statistics to select the best model, the we will always end up with a model involving all of the variables which give us the most important value of R2.  \n",
    "The problem is that a low RSS or a high R2 indicates a model with a low training error, whereas we wish to choose a model that has a low test error.(training error tends to be quite a bit\n",
    "smaller than test error, and a low training error by no means guarantees\n",
    "a low test error)"
   ]
  },
  {
   "cell_type": "code",
   "execution_count": 12,
   "metadata": {
    "collapsed": false
   },
   "outputs": [
    {
     "data": {
      "text/plain": [
       "<matplotlib.text.Text at 0x179aaec8780>"
      ]
     },
     "execution_count": 12,
     "metadata": {},
     "output_type": "execute_result"
    },
    {
     "data": {
      "image/png": "[encoded data removed]",
      "text/plain": [
       "<matplotlib.figure.Figure at 0x179af6254e0>"
      ]
     },
     "metadata": {},
     "output_type": "display_data"
    }
   ],
   "source": [
    "plt.figure(figsize=(20,10))\n",
    "plt.rcParams.update({'font.size': 18, 'lines.markersize': 10})\n",
    "plt.subplot(2, 2, 1)\n",
    "plt.plot(models['RSS'])\n",
    "plt.xlabel('Predictors')\n",
    "plt.ylabel('RSS')"
   ]
  },
  {
   "cell_type": "code",
   "execution_count": 13,
   "metadata": {
    "collapsed": false
   },
   "outputs": [
    {
     "data": {
      "text/plain": [
       "<matplotlib.text.Text at 0x17786003d30>"
      ]
     },
     "execution_count": 13,
     "metadata": {},
     "output_type": "execute_result"
    },
    {
     "data": {
      "image/png": "[encoded data removed]",
      "text/plain": [
       "<matplotlib.figure.Figure at 0x179aaec8ac8>"
      ]
     },
     "metadata": {},
     "output_type": "display_data"
    }
   ],
   "source": [
    "# We will now plot a red dot to indicate the model with the largest adjusted R^2 statistic.\n",
    "# The argmax() function can be used to identify the location of the maximum point of a vector\n",
    "rsquared = models.apply(lambda row: row[1].rsquared, axis=1)\n",
    "plt.figure(figsize=(20,10))\n",
    "plt.subplot(2, 2, 2)\n",
    "plt.plot(rsquared)\n",
    "plt.plot(rsquared.argmax(), rsquared.max(), 'or')\n",
    "plt.xlabel('Number of Predictors')\n",
    "plt.ylabel('adjusted R-squared')"
   ]
  },
  {
   "cell_type": "code",
   "execution_count": 14,
   "metadata": {
    "collapsed": false
   },
   "outputs": [
    {
     "data": {
      "text/plain": [
       "<matplotlib.text.Text at 0x17783c244e0>"
      ]
     },
     "execution_count": 14,
     "metadata": {},
     "output_type": "execute_result"
    },
    {
     "data": {
      "image/png": "[encoded data removed]",
      "text/plain": [
       "<matplotlib.figure.Figure at 0x17783be7908>"
      ]
     },
     "metadata": {},
     "output_type": "display_data"
    }
   ],
   "source": [
    "# We’ll do the same for AIC and BIC, this time looking for the models with\n",
    "# smallest statistics\n",
    "aic = models.apply(lambda row: row[1].aic, axis=1)\n",
    "plt.figure(figsize=(20,10))\n",
    "plt.subplot(2, 2, 3)\n",
    "plt.plot(aic)\n",
    "plt.plot(aic.argmin(), aic.min(), \"or\")\n",
    "plt.xlabel('Number of Predictors')\n",
    "plt.ylabel('AIC')"
   ]
  },
  {
   "cell_type": "code",
   "execution_count": 15,
   "metadata": {
    "collapsed": false
   },
   "outputs": [
    {
     "data": {
      "text/plain": [
       "<matplotlib.text.Text at 0x1778375eda0>"
      ]
     },
     "execution_count": 15,
     "metadata": {},
     "output_type": "execute_result"
    },
    {
     "data": {
      "image/png": "[encoded data removed]",
      "text/plain": [
       "<matplotlib.figure.Figure at 0x177839a9470>"
      ]
     },
     "metadata": {},
     "output_type": "display_data"
    }
   ],
   "source": [
    "bic = models.apply(lambda row: row[1].bic, axis=1)\n",
    "plt.figure(figsize=(20,10))\n",
    "plt.subplot(2, 2, 4)\n",
    "plt.plot(bic)\n",
    "plt.plot(bic.argmin(), bic.min(), \"or\")\n",
    "plt.xlabel('Number of Predictors')\n",
    "plt.ylabel('BIC')"
   ]
  },
  {
   "cell_type": "markdown",
   "metadata": {},
   "source": [
    "**Conclusion:**  \n",
    "So for adjusted R2 or AIC, a model with 7 predictors is the best performer\n",
    "but for BIC, a model with 6 preditors is the chosen one.  \n",
    "**Remember that we only took p = 7 for reducing time of calculating. If we run for p = 23, we can get the result we want for the best performer model.**\n",
    "\n",
    "### Cons of Best Subset Selection\n",
    "While best subset selection is a simple and conceptually appealing approach, it suffers from computational limitations.  \n",
    "The number of possible models that must be considered grows rapidly as p increases. In general, there are $2^p$ models that involve subsets of p predictors (with p as number of variables)  \n",
    "Consequently, best-subset selection becomes computationally **infeasible** for values of p greater than 40."
   ]
  },
  {
   "cell_type": "markdown",
   "metadata": {},
   "source": [
    "### Forward and Backward Stepwise Selection\n",
    "For computational reasons, best subset selection cannot be applied with\n",
    "very large p. Best subset selection may also suffer from statistical problems when p is large. The larger the search space, the higher the chance of finding models that look good on the training data, even though they might not have any predictive power on future data. Thus an enormous search space can lead to overfitting and high variance of the coefficient estimates.  \n",
    "For both of these reasons, stepwise methods, which explore a far more\n",
    "restricted set of models, are attractive alternatives to best subset selection."
   ]
  },
  {
   "cell_type": "markdown",
   "metadata": {},
   "source": [
    "### Forward Stepwise Selection\n",
    "Forward stepwise selection is a computationally efficient alternative to best forward stepwise selection subset selection. While the best subset selection procedure considers all $2^p$ possible models containing subsets of the p predictors, forward stepwise considers a much smaller set of models.  \n",
    "\n",
    "Algorithm Forward Stepwise selection:  \n",
    "1 .Let $M_0$ denote the null model, which contains no predictors.  \n",
    "2 . For k = 0, . . . , p − 1:  \n",
    "(a) Consider all p − k models that augment the predictors in $M_k$\n",
    "with one additional predictor.  \n",
    "(b) Choose the best among these p − k models, and call it $M_{k+1}$.\n",
    "Here best is defined as having smallest RSS or highest $R^2$.  \n",
    "3  Select a single best model from among $M_0$, . . . , $M_p$ using crossvalidated prediction error, $C_p$ (AIC), BIC, or adjusted $R^2$."
   ]
  },
  {
   "cell_type": "code",
   "execution_count": 16,
   "metadata": {
    "collapsed": false
   },
   "outputs": [
    {
     "name": "stdout",
     "output_type": "stream",
     "text": [
      "Processed  22 models on 1 predictors in 0.07404923439025879 seconds\n",
      "Processed  21 models on 2 predictors in 0.09606385231018066 seconds\n",
      "Processed  20 models on 3 predictors in 0.06604313850402832 seconds\n",
      "Processed  19 models on 4 predictors in 0.07805323600769043 seconds\n",
      "Processed  18 models on 5 predictors in 0.06630277633666992 seconds\n",
      "Processed  17 models on 6 predictors in 0.06604528427124023 seconds\n",
      "Processed  16 models on 7 predictors in 0.0640416145324707 seconds\n",
      "Processed  15 models on 8 predictors in 0.09606409072875977 seconds\n",
      "Processed  14 models on 9 predictors in 0.06404304504394531 seconds\n",
      "Processed  13 models on 10 predictors in 0.06604528427124023 seconds\n",
      "Processed  12 models on 11 predictors in 0.06404232978820801 seconds\n",
      "Processed  11 models on 12 predictors in 0.04803013801574707 seconds\n",
      "Processed  10 models on 13 predictors in 0.05303549766540527 seconds\n",
      "Processed  9 models on 14 predictors in 0.050032615661621094 seconds\n",
      "Processed  8 models on 15 predictors in 0.04002785682678223 seconds\n",
      "Processed  7 models on 16 predictors in 0.03702497482299805 seconds\n",
      "Processed  6 models on 17 predictors in 0.0360255241394043 seconds\n",
      "Processed  5 models on 18 predictors in 0.029021024703979492 seconds\n",
      "Processed  4 models on 19 predictors in 0.030020713806152344 seconds\n",
      "Processed  3 models on 20 predictors in 0.0240175724029541 seconds\n",
      "Processed  2 models on 21 predictors in 0.016011714935302734 seconds\n",
      "Processed  1 models on 22 predictors in 0.009005069732666016 seconds\n",
      "Total elapsed time: 1.282402753829956 seconds.\n"
     ]
    }
   ],
   "source": [
    "def forward(predictors):\n",
    "    # Pull out predictors we still need to process\n",
    "    remaining_predictors = [p for p in X.columns if p not in predictors]\n",
    "    tic = time.time()\n",
    "    results = []\n",
    "    for p in remaining_predictors:\n",
    "        results.append(processSubset(predictors+[p]))\n",
    "    # Wrap everything up in a nice dataframe\n",
    "    models = pd.DataFrame(results)\n",
    "    # Choose the model with the highest RSS\n",
    "    best_model = models.loc[models['RSS'].argmin()]\n",
    "    toc = time.time()\n",
    "    print(\"Processed \", models.shape[0], \"models on\", len(predictors)+1, \"predictors in\", (toc-tic), \"seconds\")                                                                                       \n",
    "    # Return the best model, along with some other useful information about the model\n",
    "    return best_model\n",
    "                                                                                           \n",
    "models_forward = pd.DataFrame(columns=[\"RSS\", \"model\"])\n",
    "tic = time.time()\n",
    "predictors = []\n",
    "for i in range(1,len(X.columns)+1):\n",
    "    models_forward.loc[i] = forward(predictors)\n",
    "    predictors = models_forward.loc[i]['model'].model.exog_names\n",
    "toc = time.time()\n",
    "print(\"Total elapsed time:\", (toc-tic), \"seconds.\")                                                                                        "
   ]
  },
  {
   "cell_type": "code",
   "execution_count": 17,
   "metadata": {
    "collapsed": false
   },
   "outputs": [
    {
     "name": "stdout",
     "output_type": "stream",
     "text": [
      "                            OLS Regression Results                            \n",
      "==============================================================================\n",
      "Dep. Variable:                 Salary   R-squared:                       0.665\n",
      "Model:                            OLS   Adj. R-squared:                  0.663\n",
      "Method:                 Least Squares   F-statistic:                     519.2\n",
      "Date:                Fri, 21 Apr 2017   Prob (F-statistic):           4.20e-64\n",
      "Time:                        14:38:18   Log-Likelihood:                -1952.4\n",
      "No. Observations:                 263   AIC:                             3907.\n",
      "Df Residuals:                     262   BIC:                             3910.\n",
      "Df Model:                           1                                         \n",
      "Covariance Type:            nonrobust                                         \n",
      "==============================================================================\n",
      "                 coef    std err          t      P>|t|      [95.0% Conf. Int.]\n",
      "------------------------------------------------------------------------------\n",
      "Hits           4.8833      0.214     22.787      0.000         4.461     5.305\n",
      "==============================================================================\n",
      "Omnibus:                       90.075   Durbin-Watson:                   1.949\n",
      "Prob(Omnibus):                  0.000   Jarque-Bera (JB):              293.080\n",
      "Skew:                           1.469   Prob(JB):                     2.28e-64\n",
      "Kurtosis:                       7.256   Cond. No.                         1.00\n",
      "==============================================================================\n",
      "\n",
      "Warnings:\n",
      "[1] Standard Errors assume that the covariance matrix of the errors is correctly specified.\n"
     ]
    }
   ],
   "source": [
    "print(models_forward.loc[1, \"model\"].summary())\n"
   ]
  },
  {
   "cell_type": "code",
   "execution_count": 18,
   "metadata": {
    "collapsed": false
   },
   "outputs": [
    {
     "name": "stdout",
     "output_type": "stream",
     "text": [
      "                            OLS Regression Results                            \n",
      "==============================================================================\n",
      "Dep. Variable:                 Salary   R-squared:                       0.761\n",
      "Model:                            OLS   Adj. R-squared:                  0.760\n",
      "Method:                 Least Squares   F-statistic:                     416.7\n",
      "Date:                Fri, 21 Apr 2017   Prob (F-statistic):           5.80e-82\n",
      "Time:                        14:38:18   Log-Likelihood:                -1907.6\n",
      "No. Observations:                 263   AIC:                             3819.\n",
      "Df Residuals:                     261   BIC:                             3826.\n",
      "Df Model:                           2                                         \n",
      "Covariance Type:            nonrobust                                         \n",
      "==============================================================================\n",
      "                 coef    std err          t      P>|t|      [95.0% Conf. Int.]\n",
      "------------------------------------------------------------------------------\n",
      "Hits           2.9538      0.261     11.335      0.000         2.441     3.467\n",
      "CRBI           0.6788      0.066     10.295      0.000         0.549     0.809\n",
      "==============================================================================\n",
      "Omnibus:                      117.551   Durbin-Watson:                   1.933\n",
      "Prob(Omnibus):                  0.000   Jarque-Bera (JB):              654.612\n",
      "Skew:                           1.729   Prob(JB):                    7.12e-143\n",
      "Kurtosis:                       9.912   Cond. No.                         5.88\n",
      "==============================================================================\n",
      "\n",
      "Warnings:\n",
      "[1] Standard Errors assume that the covariance matrix of the errors is correctly specified.\n"
     ]
    }
   ],
   "source": [
    "print(models_forward.loc[2, \"model\"].summary())"
   ]
  },
  {
   "cell_type": "markdown",
   "metadata": {},
   "source": [
    "**Conclusion**  \n",
    "Unlike best subset selection, which involved fitting $2^p$ models, forward\n",
    "stepwise selection involves fitting one null model, along with p − k models in the k_th iteration, for k = 0, . . . , p − 1. This amounts to a total of $\\displaystyle\\sum_{i=1}^{10}(p-k)$ = 1+ p(p+1)/2 models. \n",
    "\n",
    "**Cons:**   \n",
    "Forward stepwise selection’s computational advantage over best subset\n",
    "selection is clear. Though forward stepwise tends to do well in practice,\n",
    "it is not guaranteed to find the best possible model out of all $2^p$ models containing subsets of the p predictors. \n",
    " \n",
    "For instance, suppose that in a given data set with p = 3 predictors, the best possible one-variable model contains X1, and the best possible two-variable model instead contains X2 and X3. Then forward stepwise selection will fail to select the best possible two-variable model, because M1 will contain X1, so M2 must also contain X1 together with one additional variable."
   ]
  },
  {
   "cell_type": "markdown",
   "metadata": {},
   "source": [
    "### Backward Stepwise Selection\n",
    "Like forward stepwise selection, backward stepwise selection provides an efficient alternative to best subset selection. However, unlike forward stepwise selection, it begins with the full least squares model containing\n",
    "all p predictors, and then iteratively removes the least useful predictor, one-at-a-time. "
   ]
  },
  {
   "cell_type": "markdown",
   "metadata": {},
   "source": [
    "Algorithm Backward stepwise selection:  \n",
    "1. Let $M_p$ denote the full model, which contains all p predictors.\n",
    "2. For k = p, p − 1, . . . , 1:\n",
    "(a) Consider all k models that contain all but one of the predictors\n",
    "in $M_k$, for a total of k − 1 predictors.\n",
    "(b) Choose the best among these k models, and call it $M_{k−1}$. Here\n",
    "best is defined as having smallest RSS or highest $R^2$.\n",
    "3. Select a single best model from among $M_0$, . . . , $M_p$ using crossvalidated prediction error, $C_p$ (AIC), BIC, or adjusted R2."
   ]
  },
  {
   "cell_type": "code",
   "execution_count": 19,
   "metadata": {
    "collapsed": false
   },
   "outputs": [
    {
     "name": "stdout",
     "output_type": "stream",
     "text": [
      "Processed  22 models on 21 predictors in 0.11307382583618164 seconds\n",
      "Processed  21 models on 20 predictors in 0.11707878112792969 seconds\n",
      "Processed  20 models on 19 predictors in 0.10507082939147949 seconds\n",
      "Processed  19 models on 18 predictors in 0.09706521034240723 seconds\n",
      "Processed  18 models on 17 predictors in 0.08328557014465332 seconds\n",
      "Processed  17 models on 16 predictors in 0.08405590057373047 seconds\n",
      "Processed  16 models on 15 predictors in 0.07705211639404297 seconds\n",
      "Processed  15 models on 14 predictors in 0.06804609298706055 seconds\n",
      "Processed  14 models on 13 predictors in 0.06304192543029785 seconds\n",
      "Processed  13 models on 12 predictors in 0.061040639877319336 seconds\n",
      "Processed  12 models on 11 predictors in 0.07030057907104492 seconds\n",
      "Processed  11 models on 10 predictors in 0.04302859306335449 seconds\n",
      "Processed  10 models on 9 predictors in 0.04603290557861328 seconds\n",
      "Processed  9 models on 8 predictors in 0.03202080726623535 seconds\n",
      "Processed  8 models on 7 predictors in 0.029020071029663086 seconds\n",
      "Processed  7 models on 6 predictors in 0.03702664375305176 seconds\n",
      "Processed  6 models on 5 predictors in 0.031020164489746094 seconds\n",
      "Processed  5 models on 4 predictors in 0.01801133155822754 seconds\n",
      "Processed  4 models on 3 predictors in 0.017011404037475586 seconds\n",
      "Processed  3 models on 2 predictors in 0.012006998062133789 seconds\n",
      "Processed  2 models on 1 predictors in 0.01101064682006836 seconds\n",
      "Total elapsed time: 1.2703320980072021 seconds.\n"
     ]
    }
   ],
   "source": [
    "def backward(predictors):\n",
    "    tic = time.time()\n",
    "    results = []\n",
    "    for combo in combinations(predictors, len(predictors)-1):\n",
    "        results.append(processSubset(combo))\n",
    "    # Wrap everything up in a nice dataframe\n",
    "    models = pd.DataFrame(results)\n",
    "    # Choose the model with the highest RSS\n",
    "    best_model = models.loc[models['RSS'].argmin()]\n",
    "    toc = time.time()\n",
    "    print(\"Processed \", models.shape[0], \"models on\", len(predictors)-1, \"predictors in\", (toc-tic), \"seconds\")\n",
    "    # Return the best model, along with some other useful information about the model\n",
    "    return best_model\n",
    "\n",
    "models_backward = pd.DataFrame(columns=[\"RSS\", \"model\"], index = range(1,len(X.columns)))\n",
    "tic = time.time()\n",
    "predictors = X.columns\n",
    "while(len(predictors) > 1):\n",
    "    models_backward.loc[len(predictors)-1] = backward(predictors)\n",
    "    predictors = models_backward.loc[len(predictors)-1]['model'].model.exog_names\n",
    "toc = time.time()\n",
    "print(\"Total elapsed time:\", (toc-tic), \"seconds.\")"
   ]
  },
  {
   "cell_type": "markdown",
   "metadata": {},
   "source": [
    "**Conclusion:**  \n",
    "Like forward stepwise selection, the backward selection approach searches\n",
    "through only 1+p(p+1)/2 models, and so can be applied in settings where\n",
    "p is too large to apply best subset selection. Also like forward stepwise\n",
    "selection, backward stepwise selection is not guaranteed to yield the best\n",
    "model containing a subset of the p predictors.  \n",
    "\n",
    "Backward selection requires that the number of samples n is larger than\n",
    "the number of variables p (so that the full model can be fit). In contrast,forward stepwise can be used even when n < p, and so is the only viable subset method when p is very large"
   ]
  },
  {
   "cell_type": "markdown",
   "metadata": {},
   "source": [
    "### Compare three models\n"
   ]
  },
  {
   "cell_type": "code",
   "execution_count": 20,
   "metadata": {
    "collapsed": false
   },
   "outputs": [
    {
     "name": "stdout",
     "output_type": "stream",
     "text": [
      "AtBat          -2.020183\n",
      "Hits            6.839428\n",
      "Walks           6.079425\n",
      "CRuns           1.132289\n",
      "CWalks         -0.722535\n",
      "PutOuts         0.302149\n",
      "Division_E    114.378039\n",
      "dtype: float64\n",
      "-------------------------\n",
      "Hits           7.604398\n",
      "CRBI           0.643017\n",
      "Division_W   -31.439736\n",
      "PutOuts        0.264308\n",
      "AtBat         -1.868589\n",
      "Walks          3.697647\n",
      "Division_E    91.511798\n",
      "dtype: float64\n",
      "-------------------------\n",
      "AtBat         -1.601655\n",
      "Hits           6.148449\n",
      "Walks          5.866033\n",
      "CRuns          1.097453\n",
      "CWalks        -0.650614\n",
      "PutOuts        0.310125\n",
      "Division_W   -95.027171\n",
      "dtype: float64\n"
     ]
    }
   ],
   "source": [
    "print(models.loc[7, \"model\"].params)\n",
    "print(\"-\"*25)\n",
    "print(models_forward.loc[7, \"model\"].params)\n",
    "print(\"-\"*25)\n",
    "print(models_backward.loc[7, \"model\"].params)"
   ]
  },
  {
   "cell_type": "markdown",
   "metadata": {
    "collapsed": true
   },
   "source": [
    "### Choosing the Optimal Model\n",
    "Best subset selection, forward selection, and backward selection result in the creation of a set of models, each of which contains a subset of the p predictors. In order to implement these methods, we need a way to determine which of these models is best.   \n",
    "    Remember that the model containing all of the predictors will always have the smallest RSS and the largest $R^2$, since these quantities are related to the training error. Instead,\n",
    "we wish to choose a model with a low test error. Therefore, RSS and R2 are not suitable for selecting the best model among a collection of models with different numbers of predictors.  \n",
    "\n",
    "In order to select the best model with respect to test error, we need to estimate this test error. There are two common approaches:  \n",
    "\n",
    "1. We can indirectly estimate test error by making an adjustment to the training error to account for the bias due to overfitting.  \n",
    "2. We can directly estimate the test error, using either a validation set approach or a cross-validation approach, as discussed in Chapter 5.  "
   ]
  },
  {
   "cell_type": "markdown",
   "metadata": {},
   "source": [
    "#### First approache: (Indirectly) Use adjustment to the training error:  Cp, Akaike information criterion (AIC), Bayesian information criterion (BIC), and adjusted R2:\n",
    "  $C_p$ : The Cp estimate of test MSE is computed using the equation:  \n",
    "\n",
    "   $$C_p =\\displaystyle\\frac{1}{n}(RSS + 2d\\hat{\\sigma}^2)     (1)$$\n",
    " \n",
    "\n",
    " where $\\hat{\\sigma}^2$ is an estimate of the variance of the error $\\epsilon$ associated with each response measurement in equation regression. Essentially, the $C_p$ statistic adds a penalty of $2d$$\\hat{\\sigma}^2$ to the training RSS in order to adjust for the fact that the training error tends to underestimate the test error. Clearly, the penalty increases as the number of predictors in the model increases; this is intended to adjust for the corresponding decrease in training RSS.  \n",
    " If $\\hat{\\sigma}^2$ is an unbiased estimate of $σ^2$ in (1), then $C_p$ is an unbiased estimate of test MSE. As a consequence, the $C_p$ statistic tends to take on a small value for models with a low test error, so when determining which of a set of models is best, we choose the model with the lowest $C_p$ value.  \n",
    " **Conclusion:** So we will choose the model with the **lowest $C_p$ value.**  \n",
    " \n",
    " ---\n",
    "  $AIC$ criterion is defined for a large class of models fit by maximum likelihood  \n",
    " $$AIC =\\displaystyle\\frac{1}{n\\hat{\\sigma}^2}(RSS + 2d\\hat{\\sigma}^2)  $$\n",
    " \n",
    " For least squares models, Cp and AIC are proportional to each other  \n",
    " **Conclusion:** So we will choose the model with the **lowest $AIC$ value.**\n",
    " \n",
    " ---\n",
    "  $BIC$ is derived from a Bayesian point of view, but ends up looking similar to $C_p$ (and AIC) as well. For the least squares model with d predictors, the BIC is, up to irrelevant constants, given by  \n",
    "  $$BIC = \\displaystyle\\frac{1}{n}(RSS + log(n)d\\hat{\\sigma}^2) $$ \n",
    "  **Conclusion:** So we will choose the model with the **lowest $BIC$ value.**   \n",
    "  Notice that BIC replaces the $2d$$\\hat{\\sigma}^2$ used by $C_p$ with a $log(n)d$$\\hat{\\sigma}^2$ term, where n is the number of observations. Since $log(n) > 2$ for any n > 7, the BIC statistic generally places a heavier penalty on models with many variables, and hence results in the selection of smaller models than $C_p$\n",
    " \n",
    " ---\n",
    "  The adjusted $R^2$ statistic is another popular approach for selecting among a set of models that contain different numbers of variables  \n",
    "  $$Adjusted R^2 = 1 - \\displaystyle\\frac{RSS/(n-d-1)}{TSS/(n-1)}$$  \n",
    "  **Conclusion:** So we will choose the model with the **largest $Adjusted $ $R^2$  value.**  \n",
    "  \n",
    " ---"
   ]
  },
  {
   "cell_type": "markdown",
   "metadata": {},
   "source": [
    "#### Second Approach: (Directly) Validation and Cross-Validation\n",
    "**We can compute the validation set error or the cross-validation error for each model under consideration, and then select the model for which the resulting estimated test error is smallest. This procedure has an advantage relative to AIC, BIC, Cp, and adjusted R2, in that it provides a direct estimate of the test error, and makes fewer assumptions about the true underlying model**  \n",
    "*In the past, performing cross-validation was computationally prohibitive for many problems with large p and/or large n, and so AIC, BIC, Cp, and adjusted R2 were more attractive approaches for choosing among a set of models. However, nowadays with fast computers, the computations required to perform cross-validation are hardly ever an issue. Thus, cross-validation is a very attractive approach for selecting from among a number of models under consideration*  \n",
    "\n",
    "---\n",
    "Method: It involves randomly dividing the available set of observations into 2 parts, a *training set* and a *validation set*. The model is fit on the training set and the fitted model is used to predict the responses for the observations in the validation set. the resulting validation set error rate - typically assessed using MSE in the case of a quantitative response - provides an estimates of the test error rate.   \n",
    "\n",
    "---\n",
    "\n"
   ]
  },
  {
   "cell_type": "markdown",
   "metadata": {},
   "source": [
    "#### But how to choose the size of these 2 sets? \n",
    "Approach 1: **The Validation Set Approach**  \n",
    "We divide the available set of observations into 2 equal parts (50-50). \n",
    "Two potential drawbacks:  \n",
    "1. The validation estimate of the test error rate can be highly variable, depending on precisely which observations are included in the training set and which observations are included in the validation set.\n",
    "2. In the validation approach, only a subset of the observations—those that are included in the training set rather than in the validation set—are used to fit the model. Since statistical methods tend to perform worse when trained on fewer observations, this suggests that the validation set error rate may tend to overestimate the test error rate for the model fit on the entire data set. \n",
    "  \n",
    "Approach 2: **Leave-One-Out Cross-Validation**  \n",
    "A single observation ($x_1$,$y_1$) is used for the validation set, and the remaining observations {($x_2$,$y_2$),..., ($x_n$,$y_n$)} make up the training set. The statistical learning method is fit on the n − 1 training observations, and a prediction $\\hat{y}_1$ is made for the excluded observation, using its value $x_1$   \n",
    "We can repeat the procedure by selecting ($x_2$, $y_2$) for the validation data, training the statistical learning procedure on the n − 1 observations {($x_1$,$y_1$),($x_3$,$y_3$),..., ($x_n$,$y_n$)}, and computing $MSE_2 = (y_2−\\hat{y}_2)^2$. Repeating this approach n times produces n squared errors, $MSE_1$, . . . , $MSE_n$. The LOOCV estimate for the test MSE is the average of these n test error estimates:\n",
    "$$CV_{(n)} = \\displaystyle\\frac{1}{n}\\displaystyle\\sum_{i=1}^{n}MSE_i$$  \n",
    "  \n",
    "\n",
    "Advantages:  \n",
    "**First**, it has far less bias. In LOOCV, we repeatedly fit the statistical learning method using training sets that contain n − 1 observations, almost as many as are in the entire data set. This is in contrast to the validation set approach, in which the training set is typically around half the size of the original data set. Consequently, the LOOCV approach tends not to overestimate the test error rate as much as the validation set approach does.  \n",
    "**Second**, in contrast to the validation approach which will yield different results when applied repeatedly due to randomness in the training/validation set splits, performing LOOCV multiple times will always yield the same results: there is no randomness in the training/validation set splits.  \n",
    "  \n",
    "Approach 3: **k-Fold Cross-Validation**   \n",
    "This approach involves randomly k-fold CV dividing the set of observations into k groups, or folds, of approximately equal size. The first fold is treated as a validation set, and the method is fit on the remaining k − 1 folds. The mean squared error, MSE1, is then computed on the observations in the held-out fold. This procedure is repeated k times; each time, a different group of observations is treated as a validation set. This process results in k estimates of the test error, $MSE_1, MSE_2, . . . , MSE_k$. The k-fold CV estimate is computed by averaging these values: \n",
    "$$CV_{(k)} = \\displaystyle\\frac{1}{k}\\displaystyle\\sum_{i=1}^{k}MSE_i$$   \n",
    "  \n",
    "In practice, one typically performs k-fold CV using k = 5 or k = 10.   \n",
    "   \n",
    "Advantages:  \n",
    "**First**: computational. LOOCV requires fitting the statistical learning method n times. This has the potential to be computationally expensive. But cross-validation is a very general approach that can be applied to almost any statistical learning method.  \n",
    "  \n",
    "**Second**: bias-variance trade-off.  \n",
    "Bias: k-fold CV has bias smaller than does LOOCV. LOOCV will give approximately unbiased estimates of the test error, since each training set contains n − 1 observations, which is almost as many as the number of observations in the full data set. And performing k-fold CV for, say, k = 5 or k = 10 will lead to an intermediate level of bias, since each training set contains $(k − 1)n/k$ observations—fewer than in the LOOCV approach, but substantially more than in the validation set approach  \n",
    "Variance: k-fold CV has smaller variance than does LOOCV with k < n.  When we perform LOOCV, we are in effect averaging the outputs of n fitted models, each of which is trained on an almost identical set of observations; therefore, these outputs are highly (positively) correlated with each other. In contrast, when we perform k-fold CV with k < n, we are averaging the outputs of k fitted models that are somewhat less correlated with each other, since the overlap between the training sets in each model is smaller. "
   ]
  }
 ],
 "metadata": {
  "kernelspec": {
   "display_name": "Python 2",
   "language": "python",
   "name": "python2"
  },
  "language_info": {
   "codemirror_mode": {
    "name": "ipython",
    "version": 2
   },
   "file_extension": ".py",
   "mimetype": "text/x-python",
   "name": "python",
   "nbconvert_exporter": "python",
   "pygments_lexer": "ipython2",
   "version": "2.7.13"
  }
 },
 "nbformat": 4,
 "nbformat_minor": 2
}
