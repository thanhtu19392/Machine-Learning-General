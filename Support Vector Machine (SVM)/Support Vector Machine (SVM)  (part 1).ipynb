{
 "cells": [
  {
   "cell_type": "markdown",
   "metadata": {},
   "source": [
    "# Support Vector Machine (SVM) \n",
    "## 1.[Introduction](#intro)\n",
    "## 2.[Maximum Margin Classifier](#hardmargin)\n",
    "## 3.[Soft Margin Classifier](#softmargin)\n",
    "## 4. [Coding Example in Python](#example)\n",
    "\n",
    "\n",
    "----\n",
    "## 1. Introduction <a name ='intro'></a>\n",
    "### 1.1 Distance from a point to a hyperplane <a name ='distance' ></a>\n",
    "In the 2-dimensional, distance from a point $(x_0, y_0)$ to a line $w_1x + w_2y + b = 0$:  \n",
    "  \n",
    "$$ \\frac {|w_1x_0 + w_2y_0 + b|}{\\sqrt{w_1^2 +w_2^2}} $$  \n",
    "   \n",
    "In the 3-dimensional, distance from a point $(x_0,y_0,z_0)$ to a plane $w_1x + w_2y +w_3z + b = 0$:  \n",
    "   \n",
    "$$ \\frac {|w_1x_0 + w_2x_0 +w_3z_0+ b|}{\\sqrt{w_1^2 +w_2^2+w_3^2}} $$  \n",
    "   \n",
    "In general, distance from a vector $x_0$ to a hyperplane $w^Tx + b = 0$: \n",
    "$$ \\frac{w^Tx_0 + b}{||w||_2}$$ with $||\\mathrm{w}||_2 = \\sqrt{\\displaystyle\\sum_{i=1}^d w_i^2}$ in d-dimensional space   \n",
    "     \n",
    "### 1.2 Lagrange Multipliers & KKT conditions\n",
    "**Purposes**: to find the stationary points of a function of several variables subject to one or more constraints   \n",
    " \n",
    "#### 1.2.1 Starting with a simple problem\n",
    "$$\\begin{eqnarray} \n",
    "    max ~f(x_1,x_2) \\\\ \n",
    "\\text{subject to:} ~ g(x_1,x_2) = 0 \n",
    "\\end{eqnarray}$$\n",
    "  \n",
    "**Geometrical perspective:**  \n",
    "Consider a D-dimensional variable x with components $x_1,x_2...x_D$  \n",
    "The constraint equation $g(x)=0$ then represents a *(D-1)*-dimensional surface in x-space  \n",
    "1. Any point to the constraint surface the gradient $\\nabla g(x)$ of the constraint function $g(x) = 0 $ will be orthogonal to the surface.  \n",
    "**Demonstration:** Consider a point $x$ and $x+\\epsilon$ lies on the surface => $g(x) = g(x+\\epsilon)$  \n",
    "With Taylor expansion around $x$, $g(x+\\epsilon) \\simeq g(x) + \\epsilon^T\\nabla g(x)$   \n",
    "It means $\\epsilon^T\\nabla g(x) \\simeq 0$. In the limit $\\parallel\\epsilon\\parallel \\to 0$, $\\epsilon^T\\nabla g(x) = 0$  \n",
    "Because $\\epsilon$ is parallel to the constraint surface $g(x) = 0 $, we see that $\\nabla g$ is normal to the surface\n",
    "    \n",
    "2. Our purpose is to seek a point $x^*$ on the constraint surface such that $f(x)$ is maximized. Note that $\\nabla f(x)$ is orthogonal to the constraint surface because otherwise we could increase the value of $f(x)$ by moving a short distance along the constraint surface. Thus $\\nabla f$ and $\\nabla g$ are parallel or anti-parallel vectors   \n",
    " $$\\nabla f + \\lambda\\nabla g = 0 $$  \n",
    "   \n",
    "3. Now consider the problem \n",
    "$$\\begin{eqnarray} \n",
    "    max ~f(x_1,x_2) \\\\ \n",
    "\\text{subject to:} ~ g(x_1,x_2) \\geq 0 \n",
    "\\end{eqnarray}$$\n",
    "  \n",
    "+> the constrained stationary point lies in the region where $g(x) > 0$,  The function $g(x)$ plays no role and so the stationary condition is simply $\\nabla f(x) = 0$ => $\\lambda = 0$    \n",
    "+> it lies on the boundary $g(x) = 0$.  \n",
    "   \n",
    "For either of 2 cases, $\\lambda g(x) = 0$   \n",
    "    \n",
    "So the solution for problem (*) is KKT conditions: \n",
    "$$  g(x) \\geq 0 \\\\\n",
    "\\lambda \\geq 0 \\\\\n",
    "\\lambda g(x) = 0 $$\n",
    "\n",
    "\n",
    "#### 1.2.2 General Problem\n",
    "  $$\\begin{eqnarray} \\mathbf{x}^* &=& \\arg\\min_{\\mathbf{x}} f_0(\\mathbf{x}) \\\\\n",
    "\\text{subject to:}~ && f_i(\\mathbf{x}) \\leq 0, ~~ i = 1, 2, \\dots, m ~~~\\\\ && h_j(\\mathbf{x}) = 0, ~~ j = 1, 2, \\dots, p \\end{eqnarray} \\\\ \n",
    "\\text{in } \\mathcal{D} = (\\cap_{i=0}^m \\text{dom}f_i) \\cap (\\cap_{j=1}^p \\text{dom}h_j)$$   \n",
    "   \n",
    "**Lagrangian:** \n",
    "$$\\mathcal{L}(\\mathbf{x}, \\lambda, \\nu) = f_0(\\mathbf{x}) + \\sum_{i=1}^m \\lambda_if_i(\\mathbf{x}) + \\sum_{j=1}^p \\nu_j h_j(\\mathbf{x})$$  \n",
    "  \n",
    "$$\\text{with } \\lambda = [\\lambda_1, \\lambda_2, \\dots, \\lambda_m]; \\nu = [\\nu_1, \\nu_2, \\dots, \\nu_p]$$  \n",
    "   \n",
    "## 2. Maximum Margin Classifiers <a name='hardmargin'></a>\n",
    "The training data set comprises N input vectors $x_1,x_2,...,x_N$ with corresponding target values $t_1,t_2,...,t_N$ where $t_n \\in \\{-1,1\\}$  \n",
    "Assuming that the training data set is linearly separable in feature space. It means that there exists at least one choice of parameters $\\mathbf w$ and *b* such that $y(x) = \\mathbf w^T \\phi(x) +b$ satisfies $y(x_n) > 0$ for points having $t_n = +1$ and $y(x_n) < 0$ for points having $t_n = -1$ so that $t_ny(x_n) > 0$ for all training data points.   \n",
    "   \n",
    "There may of course exist many such solutions that separate the classes exactly. If there are multiple solutions all of which classify the training data set exactly, then we should try to find the one that will give the smallest generalization error.   \n",
    "  \n",
    "### 2.1 Margin \n",
    "Margin is defined to be the smallest distance between the decision boundary and any of the points.  \n",
    "    \n",
    "### 2.2 Maximum Margin \n",
    "In SVM, the decision boundary is chosen to be the one for which the margin is maximized.   \n",
    "\n",
    "### 2.3 Maximum Margin Classifiers \n",
    "We described [above](#distance), the perpendicular distance of a point x from a hyperplain defined by $y(x) = 0$ where $y(x) = \\mathbf w^T \\phi(x) +b$ is $$\\frac{| y(x)|}{\\parallel \\mathbf w \\parallel}$$   \n",
    "   \n",
    "Thus the distance of a point $x_n$ to the decision surface is given by   \n",
    "   \n",
    "$$\\frac{t_n y(x_n)}{\\parallel \\mathbf w \\parallel} = \\frac {t_n(\\mathbf w^T \\phi(x) +b)}{\\parallel \\mathbf w \\parallel} $$ \n",
    "   \n",
    "we wish to optimize the parameters $\\mathbf w$ and $b$ in order to maximize this distance. The maximum margin solution is found by solving \n",
    "\n",
    "$$(\\mathbf{w}, b) = \\arg\\max_{\\mathbf{w}, b} \\left\\{ \\min_{n} \\frac{t_n(\\mathbf{w}^T\\mathbf{\\phi(x_n)} + b)}{||\\mathbf{w}||_2} \\right\\} = \\arg\\max_{\\mathbf{w}, b}\\left\\{ \\frac{1}{||\\mathbf{w}||_2} \\min_{n} t_n(\\mathbf{w}^T\\mathbf{\\phi(x_n)} + b) \\right\\} ~~~ (1)$$  \n",
    "   \n",
    "We note that if we make the rescaling $\\mathbf w \\to k\\mathbf{w}$ and $b \\to kb$, then the distance from any point $x_n$ to the decision surface is unchanged. So we can set: $$t_n(\\mathbf{w}^T\\mathbf{\\phi(x_n)} + b) = 1 $$ **for the point that is closest to the surface**  \n",
    "  \n",
    "=> $$t_n(\\mathbf{w}^T\\mathbf{\\phi(x_n)} + b) \\geq 1 ~~ \\forall x_n $$\n",
    "  \n",
    "So our problem becomes \n",
    "$$(\\mathbf{w}, b) = \\arg\\min_{\\mathbf{w}, b} \\frac{1}{2}||\\mathbf{w}||^2 \\\\\n",
    "\\text{subject to:} ~ t_n(\\mathbf{w}^T\\mathbf{\\phi(x_n)} + b) \\geq 1 ~~ \\forall n = 1,2,..,N ~~~ (2)$$\n",
    "  \n",
    "This is an example of a *quadratic programming* problem in which we are trying to minimize a quadratic function (convex function) subject to a set of linear inequality constraints (convex constraints). So this is a** convex problem**. \n",
    "=> **We have only one solution.**\n",
    "  \n",
    "$$\\mathcal{L}(\\mathbf w, b, \\lambda) = \\frac{1}{2}||\\mathbf{w}||^2 - \\displaystyle\\sum_{n=1}^N \\lambda_n \\bigg( t_n\\big(\\mathbf{w}^T\\mathbf{\\phi(x_n)} + b\\big) - 1 \\bigg)$$ \n",
    "where $\\lambda = (\\lambda_1, ...,\\lambda_N)^T$ and $\\lambda_n \\geq 0, \\forall n = 1,2,...,N$  \n",
    "  \n",
    "**Lagrange dual function**  \n",
    "$$ g(\\lambda) = \\min_{\\mathbf{w}, b} \\mathcal{L}(\\mathbf{w}, b, \\lambda) ~~ where ~~ \\lambda \\succeq 0$$ \n",
    "  \n",
    "$$  \n",
    " \\begin{eqnarray} \\frac{\\partial \\mathcal{L}(\\mathbf{w}, b, \\lambda)}{\\partial \\mathbf{w}} &=& \\mathbf{w} - \\sum_{n=1}^N \\lambda_n t_n \\mathbf{\\phi(x_n)} = 0 \\Rightarrow \\mathbf{w} = \\sum_{n=1}^N \\lambda_n t_n \\mathbf{\\phi(x_n)} ~~~~~ (3)\\\\\n",
    "\\frac{\\partial \\mathcal{L}(\\mathbf{w}, b, \\lambda)}{\\partial b} &=& \\sum_{n=1}^N \\lambda_nt_n = 0 ~~~~~~~~~~(4) \\end{eqnarray} $$  \n",
    "   \n",
    "   ---\n",
    "$$ g(\\lambda) = \\sum_{n=1}^N \\lambda_n -\\frac{1}{2}\\sum_{n=1}^N \\sum_{m=1}^N \\lambda_n\\lambda_m t_n t_m k(\\mathbf{x}_n;\\mathbf{x}_m)$$  \n",
    "  \n",
    "with $$\\lambda_n \\geq 0, n = 1,2,...N$$\n",
    "    $$\\displaystyle\\sum_{n=1}^N \\lambda_nt_n = 0 $$  \n",
    "    \n",
    "and $$k(x,x') = \\phi(x)^T\\phi(x')$$\n",
    "\n",
    "     \n",
    "---\n",
    "\n",
    "#### Comments:  \n",
    "1. The solution to a quadratic programming problem in M variables in general has computational complexity that is $O(M^3)$. Now we turn the original optimization problem, which involved minimizing over M variables, into the dual problem which has $N$ variables.   \n",
    "If $M < N$, the move to dual problem appreas disadvantageous.  \n",
    "However, it allows the model to be reformulated using **kernels**, and so the maximum margin classifier can be applied efficiently to feature spaces whose dimensionality exceeds the number of data points, including infinite feature spaces.   \n",
    "   \n",
    "The solution for this problem satisfies the KKT conditions: \n",
    "$$  \n",
    "\\begin{eqnarray} 1 - t_n(\\mathbf{w}^T\\mathbf{x}_n + b) &\\leq& 0, ~ \\forall n = 1, 2, \\dots, N ~~~~(5) \\\\\n",
    "\\lambda_n &\\geq& 0, ~\\forall n = 1, 2, \\dots, N \\\\\n",
    "\\lambda_n (1 - t_n(\\mathbf{w}^T\\mathbf{x}_n + b)) &=& 0, ~\\forall n = 1, 2, \\dots, N ~~~~(6) \\\\\n",
    "\\mathbf{w} &=& \\sum_{n=1}^N \\lambda_n t_n \\mathbf{\\phi(x_n)} ~~~~~~~~~~~(7)\\\\ \\sum_{n=1}^N \\lambda_nt_n &=& 0 ~~~~~~~~~~~~~~~~~~~(8) \\end{eqnarray} \n",
    "$$  \n",
    "   \n",
    "From $(6)$ either $\\lambda_n = 0$ or $t_ny(x_n) = 1$  \n",
    "+> $\\lambda_n = 0$ => points plays no role in making predictions for new data points   \n",
    "+> $t_ny(x_n) = 1$ => points lie on the maximum margin hyperplanes in feature space => **support vectors**  \n",
    "##### Important note: Once the model is trained, a significant proportion of the data points can be discarded and only support vectors retained. Based only on these support vectors, we can absolutly find the boundary decision.  \n",
    "  \n",
    "Solved the quadratic programming problem   \n",
    "=> find a value for $\\lambda$   \n",
    "=> determine b by noting that any support vector $x_n$ satisfies $t_ny(x_n)=1$   \n",
    "$$ t_n\\Big( \\displaystyle\\sum_{m \\in \\mathcal{S}} \\lambda_mt_mk(x_n,x_m) + b \\Big) = 1$$  \n",
    "where $\\mathcal{S}$ denotes the set of indices of the support vectors.   \n",
    "$$ b = \\frac{1}{N_{\\mathcal{S}}} \\sum_{n \\in \\mathcal{S}}(t_n - \\mathbf{w}^T\\mathbf{\\phi(x_n)}) = \\frac{1}{N_{\\mathcal{S}}} \\sum_{n \\in \\mathcal{S}} \\left(t_n - \\sum_{m\\in \\mathcal{S}} \\lambda_m t_m k(\\mathbf{x}_n,\\mathbf{x}_m) \\right)$$  \n",
    "where $N_\\mathcal{S}$ is total number of support vectors  \n",
    "  \n",
    "## 3. Soft margin classifier  <a name ='softmargin'></a>\n",
    "  \n",
    "This method allow some of the training points to be misclassified. Data points are allowed to be on the 'wrong side' of the margin boundary, but with a penalty that increases with the distance from that boundary.  \n",
    "We introduce *slack variables* $\\xi_n \\geq 0$ where $n = 1,... N$ with one slack variable for each training data point.  \n",
    "+> $\\xi_n = 0$ for data points that are on or inside the correct margin boundary   \n",
    "+> $\\xi_n = |t_n -y(x_n)|$ for other points   \n",
    "   \n",
    "So a data point that is on the decision boundary $y(x_n)= 0$ will have $\\xi_n = 1$ and points with $\\xi_n > 1$ will be misclassified. \n",
    "  \n",
    "### 3.1 Our Problem:\n",
    "$$\\begin{eqnarray} (\\mathbf{w}, b, \\xi) &=& \\arg \\min_{\\mathbf{w}, b, \\xi} \\frac{1}{2}{||\\mathbf{w}||_2^2} + C \\sum_{n=1}^N \\xi_n \\\\\n",
    "\\text{subject to:}~ && 1 - \\xi_n - y_n(\\mathbf{w}^T\\phi(\\mathbf{x}_n) + b) \\leq 0, \\forall n = 1, 2, \\dots, N ~~~~(*) \\\\\n",
    "&& -\\xi_n \\leq 0, ~\\forall n = 1, 2, \\dots, N \\end{eqnarray}$$  \n",
    "  \n",
    "where C > 0 controls the trade-off between the slack variable penalty and the margin. Note that any point that is misclassified has $\\xi_n > 1$   \n",
    "   \n",
    "If C is small, the algorithm will focus on minimizing $ ||\\mathbf{w}||_2^2$ => margin is largest   \n",
    "if C is big, the algorithm will focus on minimizing $\\sum_{n=1}^N \\xi_n$ => mimimum points support vectors => margin is small\n",
    "  \n",
    " \n",
    "### 3.2 Lagrangian Problem\n",
    "  \n",
    "$$\\mathcal{L}(\\mathbf{w}, b, \\xi, \\lambda, \\mu) = \\frac{1}{2}{||\\mathbf{w}||_2^2} + C \\sum_{n=1}^N \\xi_n + \\sum_{n=1}^N \\lambda_n ( 1 - \\xi_n - y_n(\\mathbf{w}^T\\phi(\\mathbf{x}_n) + b)) - \\sum_{n=1}^N \\mu_n \\xi_n ~~~ (**)$$ \n",
    "  \n",
    "$$\\lambda = [\\lambda_1, \\lambda_2, \\dots, \\lambda_N]^T \\succeq 0 \\\\   \\mu = [\\mu_1, \\mu_2, \\dots, \\mu_N]^T \\succeq 0 $$  \n",
    "  \n",
    "Take a derivative\n",
    "$$\\begin{eqnarray} \\frac{\\partial \\mathcal{L}}{\\partial \\mathbf{w}} & = & 0 \\Leftrightarrow \\mathbf{w} = \\sum_{n=1}^N \\lambda_n t_n \\phi(\\mathbf{x}_n) &&(9)\\\\\n",
    "\\frac{\\partial \\mathcal{L}}{\\partial b} & = & 0 \\Leftrightarrow \\sum_{n=1}^N \\lambda_n t_n = 0 && (10)\\\\\n",
    "\\frac{\\partial \\mathcal{L}}{\\partial \\xi_n} & = & 0 \\Leftrightarrow \\lambda_n = C - \\mu_n && (11) \\end{eqnarray}$$  \n",
    "  \n",
    "$$g(\\lambda, \\mu) = \\sum_{n=1}^N \\lambda_n - \\frac{1}{2} \\sum_{n=1}^N\\sum_{m=1}^N \\lambda_n \\lambda_m t_n t_m k(\\mathbf{x}_n,\\mathbf{x}_m)$$  \n",
    "  \n",
    "  **Our problem becomes: **\n",
    "$$\\begin{eqnarray} \\lambda &=& \\arg \\max_{\\lambda} g(\\lambda) &&\\\\\n",
    "\\text{subject to:}~ && \\sum_{n=1}^N \\lambda_nt_n = 0 && (12)\\\\\n",
    "&& 0 \\leq \\lambda_n \\leq C, ~\\forall n= 1, 2, \\dots, N && (13) \\end{eqnarray}$$  \n",
    "  \n",
    "### 3.3 KKT conditions for soft margin\n",
    "$$\\begin{eqnarray} \n",
    "\\lambda_n &\\geq& 0 &&(14)\\\\\n",
    "t_ny(x_n) + \\xi_n  -1 &\\geq& 0 && (15) \\\\\n",
    "\\lambda_n ( t_ny(x_n) + \\xi_n  -1 ) &=& 0 && (16)\\\\\n",
    "\\xi_n &\\geq& 0 &&(17)\\\\\n",
    "\\mu_n &\\geq & 0 && (18)\\\\\n",
    "\\mu_n \\xi_n &=& 0 &&(19)\\\\\n",
    "\\mathbf{w} &=& \\sum_{n=1}^N \\lambda_n t_n \\phi(\\mathbf{x}_n) &&(20)\\\\\n",
    "\\sum_{n=1}^N \\lambda_n t_n &=& 0 && (21)\\\\\n",
    "\\lambda_n &=& C - \\mu_n && (22) \\end{eqnarray}$$  \n",
    "  \n",
    "1. $\\lambda_n = 0$ => $C = \\mu_n \\neq 0 $ => $\\xi_n = 0$ => these points in the safe zone, they do not contribute to the predictive model. \n",
    "2. $\\lambda_n > 0$ => $t_ny(x_n) + \\xi_n  -1 = 0$  \n",
    "+> if $0 < \\lambda_n < C$ => $\\mu_n \\neq 0$ =>  $\\xi_n = 0$ =>  $t_ny(x_n) =  1 $ => points lie on the margin line  => **support vectors**\n",
    "+> if $\\lambda_n = C$ => $\\mu_n = 0$ => these points lie inside the margin and can either be correctly classified if $\\xi_n \\leq 1$ or misclassified if  $\\xi_n \\geq 1$  \n",
    "  \n",
    "  \n",
    "  Suppose: \n",
    "$$\\mathcal{M} = \\{n: 0 < \\lambda_n < C \\} \\\\ \n",
    "\\mathcal{S} = \\{m: 0 < \\lambda_m\\}$$\n",
    "$\\mathcal{M}$ : Points lie on the margin line => calculate $\\mathbf{w}$   \n",
    "$\\mathbf{S}$: Support vectors => calculate $b$  \n",
    "  \n",
    "$$\\begin{eqnarray} \\mathbf{w} &=& \\sum_{m \\in \\mathcal{S}} \\lambda_m t_m \\mathbf{x}_m & ~~~ \\\\\n",
    "b &=& \\frac{1}{N_{\\mathcal{M}}} \\sum_{n \\in \\mathcal{M}} (t_n - \\mathbf{w}^T\\mathbf{x}_n) = \\frac{1}{N_{\\mathcal{M}}} \\sum_{n \\in \\mathcal{M}} \\left(t_n - \\sum_{m \\in \\mathcal{S}} \\lambda_m t_m k(\\mathbf{x}_m,\\mathbf{x}_n)\\right) & ~~~ \\end{eqnarray}$$  \n",
    "  \n",
    "  \n",
    "Our principal purpose is to find label of a new point, so we should focus on:     \n",
    "$$\\mathbf{w}^T\\mathbf{x} + b = \\sum_{m \\in \\mathcal{S}} \\lambda_m t_m k(\\mathbf{x}_m,\\mathbf{x}_n) + \\frac{1}{N_{\\mathcal{M}}} \\sum_{n \\in \\mathcal{M}} \\left(y_n - \\sum_{m \\in \\mathcal{S}} \\lambda_m t_m k(\\mathbf{x}_m,\\mathbf{x}_n)\\right)$$  \n",
    "  \n",
    "So our problem now is just focusing on the kernel vectors."
   ]
  },
  {
   "cell_type": "markdown",
   "metadata": {},
   "source": [
    "## Strengths, weaknesses and parameters\n",
    "### Strengths\n",
    "SVMs allow for very complex decision boundaries, even if the data has only a few features. SVMs work well on low-dimensional and high-dimensional data (i.e. few and many features)    \n",
    "      \n",
    "### Weaknesses: \n",
    "SVMs don’t scale very well with the number of samples. Running on data with up to 10000 samples might work well, but working with datasets of size 100000 or more can become challenging in terms of runtime and memory usage   \n",
    "Another downside of SVMs is that they require careful preprocessing of the data and tuning of the parameters. For this reason, SVMs have been replaced by tree-based models such as random forests (that require little or no preprocessing) in many applications"
   ]
  },
  {
   "cell_type": "markdown",
   "metadata": {},
   "source": [
    "# 4. Coding Example in Python<a name='example'></a>\n"
   ]
  },
  {
   "cell_type": "markdown",
   "metadata": {},
   "source": [
    "## Example 1 "
   ]
  },
  {
   "cell_type": "code",
   "execution_count": 1,
   "metadata": {},
   "outputs": [
    {
     "data": {
      "image/png": "[encoded data removed]",
      "text/plain": [
       "<matplotlib.figure.Figure at 0x2389199cc50>"
      ]
     },
     "metadata": {},
     "output_type": "display_data"
    }
   ],
   "source": [
    "# generate data\n",
    "# list of points \n",
    "import numpy as np \n",
    "import matplotlib.pyplot as plt\n",
    "from scipy.spatial.distance import cdist\n",
    "from matplotlib import rc\n",
    "rc('font',**{'family':'sans-serif','sans-serif':['Helvetica']})\n",
    "## for Palatino and other serif fonts use:\n",
    "#rc('font',**{'family':'serif','serif':['Palatino']})\n",
    "rc('text', usetex=True)\n",
    "\n",
    "np.random.seed(22)\n",
    "\n",
    "\n",
    "means = [[2, 2], [4, 2]]\n",
    "cov = [[.7, 0], [.0, .7]]\n",
    "N = 20\n",
    "X0 = np.random.multivariate_normal(means[0], cov, N)\n",
    "X1 = np.random.multivariate_normal(means[1], cov, N)\n",
    "\n",
    "plt.plot(X0[:, 0], X0[:, 1], 'bs', markersize = 8, alpha = 1)\n",
    "plt.plot(X1[:, 0], X1[:, 1], 'ro', markersize = 8, alpha = 1)\n",
    "plt.axis('equal')\n",
    "plt.ylim(0, 4)\n",
    "plt.xlim(0, 5)\n",
    "\n",
    "    # hide tikcs \n",
    "cur_axes = plt.gca()\n",
    "cur_axes.axes.get_xaxis().set_ticks([])\n",
    "cur_axes.axes.get_yaxis().set_ticks([])\n",
    "\n",
    "plt.xlabel('$x_1$', fontsize = 20)\n",
    "plt.ylabel('$x_2$', fontsize = 20)\n",
    "plt.show()"
   ]
  },
  {
   "cell_type": "code",
   "execution_count": 16,
   "metadata": {
    "collapsed": true
   },
   "outputs": [],
   "source": [
    "X = np.vstack((X0, X1))\n",
    "y = np.vstack((np.ones((N,1 )), -np.ones((N,1 )))).reshape((2*N,))"
   ]
  },
  {
   "cell_type": "code",
   "execution_count": 28,
   "metadata": {},
   "outputs": [
    {
     "name": "stdout",
     "output_type": "stream",
     "text": [
      "[[-1.87461946]\n",
      " [-1.80697358]]\n",
      "8.49691190196\n",
      "------------------------------\n",
      "[[-0.75348094]\n",
      " [-0.44806212]]\n",
      "3.13165685239\n",
      "------------------------------\n"
     ]
    }
   ],
   "source": [
    "from sklearn.svm import SVC\n",
    "#with C = 100\n",
    "C = 100\n",
    "clf = SVC(kernel = 'linear', C = C)\n",
    "clf.fit(X, y) \n",
    "\n",
    "w_sklearn = clf.coef_.reshape(-1, 1)\n",
    "b_sklearn = clf.intercept_[0]\n",
    "\n",
    "print(w_sklearn)\n",
    "print(b_sklearn) \n",
    "print(\"-\"*30)\n",
    "\n",
    "#with C = 0.1\n",
    "C = 0.1 \n",
    "clf_1 = SVC(kernel = 'linear', C = C)\n",
    "clf_1.fit(X, y) \n",
    "\n",
    "w_sklearn_1 = clf_1.coef_.reshape(-1, 1)\n",
    "b_sklearn_1 = clf_1.intercept_[0]\n",
    "print(w_sklearn_1)\n",
    "print(b_sklearn_1) \n",
    "print(\"-\"*30)\n",
    " "
   ]
  },
  {
   "cell_type": "code",
   "execution_count": 26,
   "metadata": {},
   "outputs": [
    {
     "data": {
      "image/png": "[encoded data removed]",
      "text/plain": [
       "<matplotlib.figure.Figure at 0x1ee11dc12e8>"
      ]
     },
     "metadata": {},
     "output_type": "display_data"
    },
    {
     "data": {
      "image/png": "[encoded data removed]",
      "text/plain": [
       "<matplotlib.figure.Figure at 0x1ee11dc1a58>"
      ]
     },
     "metadata": {},
     "output_type": "display_data"
    }
   ],
   "source": [
    "def myplot(X0, X1, w, b , tit):\n",
    "   \n",
    "    fig, ax = plt.subplots()\n",
    "\n",
    "    w0 = w[0]\n",
    "    w1 = w[1]\n",
    "    x1 = np.arange(-10, 10, 0.1)\n",
    "    y1 = -w0/w1*x1 - b/w1\n",
    "    y2 = -w0/w1*x1 - (b-1)/w1\n",
    "    y3 = -w0/w1*x1 - (b+1)/w1\n",
    "    plt.plot(x1, y1, 'k', linewidth = 3)\n",
    "    plt.plot(x1, y2, 'k')\n",
    "    plt.plot(x1, y3, 'k')\n",
    "\n",
    "        # equal axis and lim\n",
    "    plt.axis('equal')\n",
    "    plt.ylim(0, 3)\n",
    "    plt.xlim(2, 4)\n",
    "\n",
    "        # hide tikcs \n",
    "    cur_axes = plt.gca()\n",
    "    cur_axes.axes.get_xaxis().set_ticks([])\n",
    "    cur_axes.axes.get_yaxis().set_ticks([])\n",
    "\n",
    "        # fill two regions\n",
    "    y4 = 10*x1\n",
    "    plt.plot(x1, y1, 'k')\n",
    "    plt.fill_between(x1, y1, color='blue', alpha='0.1')\n",
    "    plt.fill_between(x1, y1, y4, color = 'red', alpha = '.1')\n",
    "\n",
    "    plt.xlabel('$x_1$', fontsize = 20)\n",
    "    plt.ylabel('$x_2$', fontsize = 20)\n",
    "    plt.title('Solution found by ' + tit, fontsize = 20)\n",
    "\n",
    "    plt.plot(X0[:, 0], X0[:, 1], 'bs', markersize = 8, alpha = .8)\n",
    "    plt.plot(X1[:, 0], X1[:, 1], 'ro', markersize = 8, alpha = .8)\n",
    "      \n",
    "    plt.show()\n",
    "\n",
    "myplot(X0, X1, w_sklearn, b_sklearn, 'sklearn')\n",
    "myplot(X0, X1, w_sklearn_1, b_sklearn_1, 'sklearn')\n"
   ]
  },
  {
   "cell_type": "markdown",
   "metadata": {},
   "source": [
    "Comments:   \n",
    "1. Larger C is , larger the margin is.  \n",
    "\n",
    "## Example 2 \n"
   ]
  },
  {
   "cell_type": "code",
   "execution_count": 40,
   "metadata": {},
   "outputs": [],
   "source": [
    "import pandas as pd\n",
    "import numpy as np\n",
    "import matplotlib.pyplot as plt\n",
    "import seaborn as sns\n",
    "\n",
    "from sklearn.preprocessing import label_binarize\n",
    "from sklearn.cross_validation import train_test_split\n",
    "from sklearn.grid_search import GridSearchCV\n",
    "from sklearn.svm import SVC, LinearSVC\n",
    "from sklearn.discriminant_analysis import LinearDiscriminantAnalysis\n",
    "from sklearn.metrics import confusion_matrix, roc_curve, auc, classification_report\n",
    "%matplotlib inline\n",
    "plt.style.use('seaborn-white')\n",
    "\n",
    "#Function to plot a classifier with support vectors\n",
    "def plot_svc(svc, X, y, h=0.02, pad=0.25):\n",
    "    x_min, x_max = X[:, 0].min()-pad, X[:, 0].max()+pad\n",
    "    y_min, y_max = X[:, 1].min()-pad, X[:, 1].max()+pad\n",
    "    xx, yy = np.meshgrid(np.arange(x_min, x_max, h), np.arange(y_min, y_max, h))\n",
    "    Z = svc.predict(np.c_[xx.ravel(), yy.ravel()])\n",
    "    Z = Z.reshape(xx.shape)\n",
    "    plt.contourf(xx, yy, Z, cmap=plt.cm.Paired, alpha=0.2)\n",
    "\n",
    "    plt.scatter(X[:,0], X[:,1], s=70, c=y, cmap=plt.cm.Paired)\n",
    "    # Support vectors indicated in plot by vertical lines\n",
    "    sv = svc.support_vectors_\n",
    "    plt.scatter(sv[:,0], sv[:,1], c='k', marker='|', s=100, linewidths='1')\n",
    "    plt.xlim(x_min, x_max)\n",
    "    plt.ylim(y_min, y_max)\n",
    "    plt.xlabel('X1')\n",
    "    plt.ylabel('X2')\n",
    "    plt.show()\n",
    "    print('Number of support vectors: ', svc.support_.size)  \n",
    "     \n"
   ]
  },
  {
   "cell_type": "code",
   "execution_count": 41,
   "metadata": {},
   "outputs": [
    {
     "data": {
      "text/plain": [
       "<matplotlib.text.Text at 0x1ee14d4f630>"
      ]
     },
     "execution_count": 41,
     "metadata": {},
     "output_type": "execute_result"
    },
    {
     "data": {
      "image/png": "[encoded data removed]",
      "text/plain": [
       "<matplotlib.figure.Figure at 0x1ee12d3dd68>"
      ]
     },
     "metadata": {},
     "output_type": "display_data"
    }
   ],
   "source": [
    "# Generating test data\n",
    "np.random.seed(8)\n",
    "X = np.random.randn(200,2)\n",
    "X[:100] = X[:100] +2\n",
    "X[101:150] = X[101:150] -2\n",
    "y = np.concatenate([np.repeat(-1, 150), np.repeat(1,50)])\n",
    "\n",
    "X_train, X_test, y_train, y_test = train_test_split(X, y, train_size=0.5, random_state=2)\n",
    "\n",
    "plt.scatter(X[:,0], X[:,1], s=70, c=y, cmap=plt.cm.Paired)\n",
    "plt.xlabel('X1')\n",
    "plt.ylabel('X2')"
   ]
  },
  {
   "cell_type": "code",
   "execution_count": 42,
   "metadata": {},
   "outputs": [
    {
     "data": {
      "image/png": "[encoded data removed]",
      "text/plain": [
       "<matplotlib.figure.Figure at 0x1ee14a1f3c8>"
      ]
     },
     "metadata": {},
     "output_type": "display_data"
    },
    {
     "name": "stdout",
     "output_type": "stream",
     "text": [
      "Number of support vectors:  51\n"
     ]
    }
   ],
   "source": [
    "svm = SVC(C=1.0, kernel='rbf', gamma=1)\n",
    "svm.fit(X_train, y_train)\n",
    "plot_svc(svm, X_test, y_test)"
   ]
  },
  {
   "cell_type": "code",
   "execution_count": 35,
   "metadata": {},
   "outputs": [
    {
     "data": {
      "text/plain": [
       "[mean: 0.77000, std: 0.03039, params: {'C': 0.01, 'gamma': 0.5},\n",
       " mean: 0.77000, std: 0.03039, params: {'C': 0.01, 'gamma': 1},\n",
       " mean: 0.77000, std: 0.03039, params: {'C': 0.01, 'gamma': 2},\n",
       " mean: 0.77000, std: 0.03039, params: {'C': 0.01, 'gamma': 3},\n",
       " mean: 0.77000, std: 0.03039, params: {'C': 0.01, 'gamma': 4},\n",
       " mean: 0.77000, std: 0.03039, params: {'C': 0.1, 'gamma': 0.5},\n",
       " mean: 0.77000, std: 0.03039, params: {'C': 0.1, 'gamma': 1},\n",
       " mean: 0.77000, std: 0.03039, params: {'C': 0.1, 'gamma': 2},\n",
       " mean: 0.77000, std: 0.03039, params: {'C': 0.1, 'gamma': 3},\n",
       " mean: 0.77000, std: 0.03039, params: {'C': 0.1, 'gamma': 4},\n",
       " mean: 0.92000, std: 0.11024, params: {'C': 1, 'gamma': 0.5},\n",
       " mean: 0.92000, std: 0.09015, params: {'C': 1, 'gamma': 1},\n",
       " mean: 0.90000, std: 0.09046, params: {'C': 1, 'gamma': 2},\n",
       " mean: 0.88000, std: 0.07597, params: {'C': 1, 'gamma': 3},\n",
       " mean: 0.85000, std: 0.06424, params: {'C': 1, 'gamma': 4},\n",
       " mean: 0.92000, std: 0.07827, params: {'C': 10, 'gamma': 0.5},\n",
       " mean: 0.89000, std: 0.10147, params: {'C': 10, 'gamma': 1},\n",
       " mean: 0.86000, std: 0.11766, params: {'C': 10, 'gamma': 2},\n",
       " mean: 0.86000, std: 0.10739, params: {'C': 10, 'gamma': 3},\n",
       " mean: 0.87000, std: 0.09596, params: {'C': 10, 'gamma': 4},\n",
       " mean: 0.84000, std: 0.09033, params: {'C': 100, 'gamma': 0.5},\n",
       " mean: 0.83000, std: 0.11902, params: {'C': 100, 'gamma': 1},\n",
       " mean: 0.86000, std: 0.11766, params: {'C': 100, 'gamma': 2},\n",
       " mean: 0.87000, std: 0.11466, params: {'C': 100, 'gamma': 3},\n",
       " mean: 0.87000, std: 0.11466, params: {'C': 100, 'gamma': 4}]"
      ]
     },
     "execution_count": 35,
     "metadata": {},
     "output_type": "execute_result"
    }
   ],
   "source": [
    "# Set the parameters by cross-validation\n",
    "tuned_parameters = [{'C': [0.01, 0.1, 1, 10, 100],\n",
    "                     'gamma': [0.5, 1,2,3,4]}]\n",
    "clf = GridSearchCV(SVC(kernel='rbf'), tuned_parameters, cv=10, scoring='accuracy')\n",
    "clf.fit(X_train, y_train)\n",
    "clf.grid_scores_"
   ]
  },
  {
   "cell_type": "code",
   "execution_count": 36,
   "metadata": {},
   "outputs": [
    {
     "data": {
      "text/plain": [
       "{'C': 1, 'gamma': 0.5}"
      ]
     },
     "execution_count": 36,
     "metadata": {},
     "output_type": "execute_result"
    }
   ],
   "source": [
    "clf.best_params_"
   ]
  },
  {
   "cell_type": "code",
   "execution_count": 38,
   "metadata": {},
   "outputs": [
    {
     "data": {
      "text/plain": [
       "array([[67,  6],\n",
       "       [ 9, 18]])"
      ]
     },
     "execution_count": 38,
     "metadata": {},
     "output_type": "execute_result"
    }
   ],
   "source": [
    "confusion_matrix(y_test, clf.best_estimator_.predict(X_test))"
   ]
  },
  {
   "cell_type": "code",
   "execution_count": 39,
   "metadata": {},
   "outputs": [
    {
     "data": {
      "text/plain": [
       "0.84999999999999998"
      ]
     },
     "execution_count": 39,
     "metadata": {},
     "output_type": "execute_result"
    }
   ],
   "source": [
    "# 15% of test observations misclassified\n",
    "clf.best_estimator_.score(X_test, y_test)"
   ]
  },
  {
   "cell_type": "markdown",
   "metadata": {},
   "source": [
    "## Example 3\n",
    "This example is about detecting Gene "
   ]
  },
  {
   "cell_type": "code",
   "execution_count": 59,
   "metadata": {},
   "outputs": [],
   "source": [
    "import scipy.io as sio\n",
    "from sklearn.svm import SVC\n",
    "from sklearn.metrics import accuracy_score\n",
    "\n",
    "A = sio.loadmat('data/myARgender.mat')\n",
    "\n",
    "X_train = A['Y_train'].T \n",
    "X_test = A['Y_test'].T \n",
    "N = 700\n",
    "y_train = A['label_train'].reshape(N)\n",
    "y_test = A['label_test'].reshape(N)\n"
   ]
  },
  {
   "cell_type": "code",
   "execution_count": 57,
   "metadata": {},
   "outputs": [
    {
     "name": "stdout",
     "output_type": "stream",
     "text": [
      "Accuracy: 92.86 %\n"
     ]
    }
   ],
   "source": [
    "# poly kernel\n",
    "clf = SVC(kernel='poly', degree = 3, gamma=1, C = 100)\n",
    "clf.fit(X_train, y_train)\n",
    "y_pred = clf.predict(X_test)\n",
    "print(\"Accuracy: %.2f %%\" %(100*accuracy_score(y_test, y_pred)))"
   ]
  },
  {
   "cell_type": "code",
   "execution_count": 58,
   "metadata": {},
   "outputs": [
    {
     "name": "stdout",
     "output_type": "stream",
     "text": [
      "Accuracy: 92.86 %\n"
     ]
    }
   ],
   "source": [
    "# Gaussien kernel\n",
    "clf1 = SVC(kernel='rbf', gamma=1, C = 100)\n",
    "clf1.fit(X_train, y_train)\n",
    "y_pred = clf1.predict(X_test)\n",
    "print(\"Accuracy: %.2f %%\" %(100*accuracy_score(y_test, y_pred)))"
   ]
  },
  {
   "cell_type": "markdown",
   "metadata": {},
   "source": [
    "## Example 4: Digits"
   ]
  },
  {
   "cell_type": "code",
   "execution_count": 71,
   "metadata": {},
   "outputs": [
    {
     "name": "stderr",
     "output_type": "stream",
     "text": [
      "C:\\Users\\Stagiaire\\lib\\site-packages\\ipykernel\\__main__.py:37: VisibleDeprecationWarning: using a non-integer number instead of an integer will result in an error in the future\n",
      "C:\\Users\\Stagiaire\\lib\\site-packages\\ipykernel\\__main__.py:40: VisibleDeprecationWarning: using a non-integer number instead of an integer will result in an error in the future\n",
      "C:\\Users\\Stagiaire\\lib\\site-packages\\ipykernel\\__main__.py:41: VisibleDeprecationWarning: using a non-integer number instead of an integer will result in an error in the future\n",
      "C:\\Users\\Stagiaire\\lib\\site-packages\\ipykernel\\__main__.py:50: VisibleDeprecationWarning: using a non-integer number instead of an integer will result in an error in the future\n"
     ]
    },
    {
     "name": "stdout",
     "output_type": "stream",
     "text": [
      "Classification report for classifier SVC(C=1.0, cache_size=200, class_weight=None, coef0=0.0,\n",
      "  decision_function_shape=None, degree=3, gamma=0.001, kernel='rbf',\n",
      "  max_iter=-1, probability=False, random_state=None, shrinking=True,\n",
      "  tol=0.001, verbose=False):\n",
      "             precision    recall  f1-score   support\n",
      "\n",
      "          0       1.00      0.99      0.99        88\n",
      "          1       0.99      0.97      0.98        91\n",
      "          2       0.99      0.99      0.99        86\n",
      "          3       0.98      0.87      0.92        91\n",
      "          4       0.99      0.96      0.97        92\n",
      "          5       0.95      0.97      0.96        91\n",
      "          6       0.99      0.99      0.99        91\n",
      "          7       0.96      0.99      0.97        89\n",
      "          8       0.94      1.00      0.97        88\n",
      "          9       0.93      0.98      0.95        92\n",
      "\n",
      "avg / total       0.97      0.97      0.97       899\n",
      "\n",
      "\n",
      "Confusion matrix:\n",
      "[[87  0  0  0  1  0  0  0  0  0]\n",
      " [ 0 88  1  0  0  0  0  0  1  1]\n",
      " [ 0  0 85  1  0  0  0  0  0  0]\n",
      " [ 0  0  0 79  0  3  0  4  5  0]\n",
      " [ 0  0  0  0 88  0  0  0  0  4]\n",
      " [ 0  0  0  0  0 88  1  0  0  2]\n",
      " [ 0  1  0  0  0  0 90  0  0  0]\n",
      " [ 0  0  0  0  0  1  0 88  0  0]\n",
      " [ 0  0  0  0  0  0  0  0 88  0]\n",
      " [ 0  0  0  1  0  1  0  0  0 90]]\n"
     ]
    },
    {
     "data": {
      "image/png": "[encoded data removed]",
      "text/plain": [
       "<matplotlib.figure.Figure at 0x1ee14e2ab70>"
      ]
     },
     "metadata": {},
     "output_type": "display_data"
    }
   ],
   "source": [
    "# Standard scientific Python imports\n",
    "import matplotlib.pyplot as plt\n",
    "\n",
    "# Import datasets, classifiers and performance metrics\n",
    "from sklearn import datasets, svm, metrics\n",
    "\n",
    "# The digits dataset\n",
    "digits = datasets.load_digits()\n",
    "\n",
    "\n",
    "# The data that we are interested in is made of 8x8 images of digits, let's\n",
    "# have a look at the first 4 images, stored in the `images` attribute of the\n",
    "# dataset.  If we were working from image files, we could load them using\n",
    "# matplotlib.pyplot.imread.  Note that each image must have the same size. For these\n",
    "# images, we know which digit they represent: it is given in the 'target' of\n",
    "# the dataset.\n",
    "images_and_labels = list(zip(digits.images, digits.target))\n",
    "#digits.images 8x8 pixels\n",
    "#digits.target is a target of digits.images\n",
    "\n",
    "for index, (image, label) in enumerate(images_and_labels[:4]):\n",
    "    plt.subplot(2, 4, index + 1)\n",
    "    plt.axis('off')\n",
    "    plt.imshow(image, cmap=plt.cm.gray_r, interpolation='nearest')\n",
    "    plt.title('Training: %i' % label)\n",
    "\n",
    "# To apply a classifier on this data, we need to flatten the image, to\n",
    "# turn the data in a (samples, feature) matrix:\n",
    "n_samples = len(digits.images)\n",
    "\n",
    "data = digits.images.reshape((n_samples, -1))\n",
    "\n",
    "# Create a classifier: a support vector classifier\n",
    "classifier = svm.SVC(gamma=0.001)\n",
    "\n",
    "# We learn the digits on the first half of the digits\n",
    "classifier.fit(data[:n_samples / 2], digits.target[:n_samples / 2])\n",
    "\n",
    "# Now predict the value of the digit on the second half:\n",
    "expected = digits.target[n_samples / 2:]\n",
    "predicted = classifier.predict(data[n_samples / 2:])\n",
    "\n",
    "print(\"Classification report for classifier %s:\\n%s\\n\"\n",
    "      % (classifier, metrics.classification_report(expected, predicted)))\n",
    "print(\"Confusion matrix:\\n%s\" % metrics.confusion_matrix(expected, predicted))\n",
    "#The diagonal elements represent the number of points for which the predicted label is equal to the true label, \n",
    "#while off-diagonal elements are those that are mislabeled by the classifier. \n",
    "#The higher the diagonal values of the confusion matrix the better, indicating many correct predictions.\n",
    "\n",
    "images_and_predictions = list(zip(digits.images[n_samples / 2:], predicted))\n",
    "for index, (image, prediction) in enumerate(images_and_predictions[:4]):\n",
    "    plt.subplot(2, 4, index + 5)\n",
    "    plt.axis('off')\n",
    "    plt.imshow(image, cmap=plt.cm.gray_r, interpolation='nearest')\n",
    "    plt.title('Prediction: %i' % prediction)\n",
    "\n",
    "plt.show()"
   ]
  },
  {
   "cell_type": "markdown",
   "metadata": {
    "collapsed": true
   },
   "source": [
    "# Reference: \n",
    "1. [Soft margin SVM](http://machinelearningcoban.com/2017/04/13/softmarginsmv/)\n",
    "2. Pattern recognition and machine learning. Bishop\n"
   ]
  },
  {
   "cell_type": "code",
   "execution_count": null,
   "metadata": {
    "collapsed": true
   },
   "outputs": [],
   "source": []
  }
 ],
 "metadata": {
  "kernelspec": {
   "display_name": "Python 3",
   "language": "python",
   "name": "python3"
  },
  "language_info": {
   "codemirror_mode": {
    "name": "ipython",
    "version": 3
   },
   "file_extension": ".py",
   "mimetype": "text/x-python",
   "name": "python",
   "nbconvert_exporter": "python",
   "pygments_lexer": "ipython3",
   "version": "3.6.2"
  },
  "toc": {
   "nav_menu": {},
   "number_sections": false,
   "sideBar": true,
   "skip_h1_title": false,
   "toc_cell": false,
   "toc_position": {
    "height": "601px",
    "left": "0px",
    "right": "1268.45px",
    "top": "107px",
    "width": "249px"
   },
   "toc_section_display": "block",
   "toc_window_display": true
  }
 },
 "nbformat": 4,
 "nbformat_minor": 2
}
